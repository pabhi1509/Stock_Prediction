{
  "nbformat": 4,
  "nbformat_minor": 0,
  "metadata": {
    "accelerator": "GPU",
    "colab": {
      "name": "stock numerical and textual analysis.ipynb",
      "provenance": [],
      "toc_visible": true
    },
    "kernelspec": {
      "display_name": "Python 3",
      "name": "python3"
    }
  },
  "cells": [
    {
      "cell_type": "code",
      "metadata": {
        "colab": {
          "base_uri": "https://localhost:8080/"
        },
        "id": "gsoXR1tX1RyO",
        "outputId": "bd832588-2a7a-4ce6-8c71-a21b3f4b0890"
      },
      "source": [
        "\r\n",
        "import os\r\n",
        "import warnings\r\n",
        "warnings.filterwarnings('ignore')\r\n",
        "import pandas as pd\r\n",
        "import numpy as np\r\n",
        "import matplotlib.pyplot as plt\r\n",
        "import itertools\r\n",
        "from statsmodels.tsa.stattools import adfuller, acf, pacf\r\n",
        "from statsmodels.tsa.arima_model import ARIMA\r\n",
        "import nltk\r\n",
        "import re\r\n",
        "from nltk.corpus import stopwords\r\n",
        "nltk.download('stopwords')\r\n",
        "nltk.download('vader_lexicon')\r\n",
        "from textblob import TextBlob\r\n",
        "from nltk.sentiment.vader import SentimentIntensityAnalyzer\r\n",
        "from nltk.stem.porter import PorterStemmer\r\n",
        "from sklearn.metrics import mean_squared_error\r\n",
        "from sklearn.model_selection import train_test_split\r\n",
        "from sklearn.ensemble import RandomForestRegressor, AdaBoostRegressor\r\n",
        "import xgboost \r\n",
        "import lightgbm"
      ],
      "execution_count": null,
      "outputs": [
        {
          "output_type": "stream",
          "text": [
            "[nltk_data] Downloading package stopwords to /root/nltk_data...\n",
            "[nltk_data]   Package stopwords is already up-to-date!\n",
            "[nltk_data] Downloading package vader_lexicon to /root/nltk_data...\n",
            "[nltk_data]   Package vader_lexicon is already up-to-date!\n"
          ],
          "name": "stdout"
        }
      ]
    },
    {
      "cell_type": "code",
      "metadata": {
        "id": "dLG0zF478yfs"
      },
      "source": [
        "from tensorflow import keras\r\n",
        "from tensorflow.keras.models import Sequential\r\n",
        "from tensorflow.keras import layers\r\n",
        "from tensorflow.keras.layers import Dense,LSTM,Activation,Dropout\r\n",
        "from sklearn.preprocessing import MinMaxScaler\r\n",
        "from keras.preprocessing.sequence import TimeseriesGenerator\r\n",
        "from numpy import newaxis\r\n",
        "import math\r\n",
        "import json\r\n",
        "#import tensorflowjs as tfjs\r\n",
        "import math\r\n",
        "import xgboost as xgb\r\n",
        "from xgboost import plot_importance, plot_tree\r\n",
        "from sklearn.metrics import mean_squared_error"
      ],
      "execution_count": null,
      "outputs": []
    },
    {
      "cell_type": "code",
      "metadata": {
        "colab": {
          "base_uri": "https://localhost:8080/",
          "height": 592
        },
        "id": "bN3zr-ON2afh",
        "outputId": "c0960008-a9c4-4973-949d-bf9361e58d0c"
      },
      "source": [
        "!pip install pmdarima\r\n"
      ],
      "execution_count": null,
      "outputs": [
        {
          "output_type": "stream",
          "text": [
            "Collecting pmdarima\n",
            "\u001b[?25l  Downloading https://files.pythonhosted.org/packages/c9/d7/61af1897449638822f97c8b43ef0c2fce2ec68a6cda9a43ebbbdd12b967c/pmdarima-1.8.0-cp36-cp36m-manylinux1_x86_64.whl (1.5MB)\n",
            "\u001b[K     |████████████████████████████████| 1.5MB 16.2MB/s \n",
            "\u001b[?25hCollecting statsmodels!=0.12.0,>=0.11\n",
            "\u001b[?25l  Downloading https://files.pythonhosted.org/packages/0d/7b/c17815648dc31396af865b9c6627cc3f95705954e30f61106795361c39ee/statsmodels-0.12.2-cp36-cp36m-manylinux1_x86_64.whl (9.5MB)\n",
            "\u001b[K     |████████████████████████████████| 9.5MB 49.8MB/s \n",
            "\u001b[?25hRequirement already satisfied: setuptools!=50.0.0,>=38.6.0 in /usr/local/lib/python3.6/dist-packages (from pmdarima) (53.0.0)\n",
            "Requirement already satisfied: numpy>=1.17.3 in /usr/local/lib/python3.6/dist-packages (from pmdarima) (1.19.5)\n",
            "Requirement already satisfied: urllib3 in /usr/local/lib/python3.6/dist-packages (from pmdarima) (1.24.3)\n",
            "Requirement already satisfied: joblib>=0.11 in /usr/local/lib/python3.6/dist-packages (from pmdarima) (1.0.0)\n",
            "Requirement already satisfied: scipy>=1.3.2 in /usr/local/lib/python3.6/dist-packages (from pmdarima) (1.4.1)\n",
            "Collecting Cython<0.29.18,>=0.29\n",
            "\u001b[?25l  Downloading https://files.pythonhosted.org/packages/e7/d7/510ddef0248f3e1e91f9cc7e31c0f35f8954d0af92c5c3fd4c853e859ebe/Cython-0.29.17-cp36-cp36m-manylinux1_x86_64.whl (2.1MB)\n",
            "\u001b[K     |████████████████████████████████| 2.1MB 49.1MB/s \n",
            "\u001b[?25hRequirement already satisfied: pandas>=0.19 in /usr/local/lib/python3.6/dist-packages (from pmdarima) (1.1.5)\n",
            "Requirement already satisfied: scikit-learn>=0.22 in /usr/local/lib/python3.6/dist-packages (from pmdarima) (0.22.2.post1)\n",
            "Requirement already satisfied: patsy>=0.5 in /usr/local/lib/python3.6/dist-packages (from statsmodels!=0.12.0,>=0.11->pmdarima) (0.5.1)\n",
            "Requirement already satisfied: pytz>=2017.2 in /usr/local/lib/python3.6/dist-packages (from pandas>=0.19->pmdarima) (2018.9)\n",
            "Requirement already satisfied: python-dateutil>=2.7.3 in /usr/local/lib/python3.6/dist-packages (from pandas>=0.19->pmdarima) (2.8.1)\n",
            "Requirement already satisfied: six in /usr/local/lib/python3.6/dist-packages (from patsy>=0.5->statsmodels!=0.12.0,>=0.11->pmdarima) (1.15.0)\n",
            "Installing collected packages: statsmodels, Cython, pmdarima\n",
            "  Found existing installation: statsmodels 0.10.2\n",
            "    Uninstalling statsmodels-0.10.2:\n",
            "      Successfully uninstalled statsmodels-0.10.2\n",
            "  Found existing installation: Cython 0.29.21\n",
            "    Uninstalling Cython-0.29.21:\n",
            "      Successfully uninstalled Cython-0.29.21\n",
            "Successfully installed Cython-0.29.17 pmdarima-1.8.0 statsmodels-0.12.2\n"
          ],
          "name": "stdout"
        },
        {
          "output_type": "display_data",
          "data": {
            "application/vnd.colab-display-data+json": {
              "pip_warning": {
                "packages": [
                  "statsmodels"
                ]
              }
            }
          },
          "metadata": {
            "tags": []
          }
        }
      ]
    },
    {
      "cell_type": "code",
      "metadata": {
        "colab": {
          "base_uri": "https://localhost:8080/"
        },
        "id": "O9OuoRN-12et",
        "outputId": "30c8181d-05a7-4678-83b6-5a9793603077"
      },
      "source": [
        "stock = pd.read_csv('/content/^BSESN.csv')\r\n",
        "print(stock.head())\r\n",
        "print(stock.shape)"
      ],
      "execution_count": null,
      "outputs": [
        {
          "output_type": "stream",
          "text": [
            "         Date          Open          High  ...         Close     Adj Close   Volume\n",
            "0  2015-01-02  27521.279297  27937.470703  ...  27887.900391  27887.900391   7400.0\n",
            "1  2015-01-05  27978.429688  28064.490234  ...  27842.320313  27842.320313   9200.0\n",
            "2  2015-01-06  27694.230469  27698.929688  ...  26987.460938  26987.460938  14100.0\n",
            "3  2015-01-07  26983.429688  27051.599609  ...  26908.820313  26908.820313  12200.0\n",
            "4  2015-01-08  27178.769531  27316.410156  ...  27274.710938  27274.710938   8200.0\n",
            "\n",
            "[5 rows x 7 columns]\n",
            "(1361, 7)\n"
          ],
          "name": "stdout"
        }
      ]
    },
    {
      "cell_type": "code",
      "metadata": {
        "colab": {
          "base_uri": "https://localhost:8080/"
        },
        "id": "EM0ESCV94X2H",
        "outputId": "b14b1c6c-3833-454b-ce4e-540d37fc1188"
      },
      "source": [
        "stock['Date'] = pd.to_datetime(stock['Date'])\r\n",
        "stock.info()"
      ],
      "execution_count": null,
      "outputs": [
        {
          "output_type": "stream",
          "text": [
            "<class 'pandas.core.frame.DataFrame'>\n",
            "RangeIndex: 1361 entries, 0 to 1360\n",
            "Data columns (total 7 columns):\n",
            " #   Column     Non-Null Count  Dtype         \n",
            "---  ------     --------------  -----         \n",
            " 0   Date       1361 non-null   datetime64[ns]\n",
            " 1   Open       1356 non-null   float64       \n",
            " 2   High       1356 non-null   float64       \n",
            " 3   Low        1356 non-null   float64       \n",
            " 4   Close      1356 non-null   float64       \n",
            " 5   Adj Close  1356 non-null   float64       \n",
            " 6   Volume     1356 non-null   float64       \n",
            "dtypes: datetime64[ns](1), float64(6)\n",
            "memory usage: 74.6 KB\n"
          ],
          "name": "stdout"
        }
      ]
    },
    {
      "cell_type": "code",
      "metadata": {
        "id": "P_OpdwRwOx5o"
      },
      "source": [
        "stock.dropna(inplace = True)"
      ],
      "execution_count": null,
      "outputs": []
    },
    {
      "cell_type": "code",
      "metadata": {
        "id": "NYPlDPY-ADha"
      },
      "source": [
        "df2=stock"
      ],
      "execution_count": null,
      "outputs": []
    },
    {
      "cell_type": "code",
      "metadata": {
        "colab": {
          "base_uri": "https://localhost:8080/",
          "height": 391
        },
        "id": "6Qm0cZSMO3yO",
        "outputId": "f0a23338-fc2c-48a7-c56f-5ec6f9ff765d"
      },
      "source": [
        "plt.figure(figsize=(10, 6))\r\n",
        "stock['Close'].plot()\r\n",
        "plt.ylabel('Close')"
      ],
      "execution_count": null,
      "outputs": [
        {
          "output_type": "execute_result",
          "data": {
            "text/plain": [
              "Text(0, 0.5, 'Close')"
            ]
          },
          "metadata": {
            "tags": []
          },
          "execution_count": 7
        },
        {
          "output_type": "display_data",
          "data": {
            "image/png": "[encoded data removed]",
            "text/plain": [
              "<Figure size 720x432 with 1 Axes>"
            ]
          },
          "metadata": {
            "tags": [],
            "needs_background": "light"
          }
        }
      ]
    },
    {
      "cell_type": "code",
      "metadata": {
        "colab": {
          "base_uri": "https://localhost:8080/",
          "height": 391
        },
        "id": "ZRbkUxxGO9zC",
        "outputId": "0cde32c2-9ec0-4e83-c623-a0fdd2357805"
      },
      "source": [
        "#Plotting moving average\r\n",
        "close = stock['Close']\r\n",
        "ma = close.rolling(window = 50).mean()\r\n",
        "std = close.rolling(window = 50).std()\r\n",
        "\r\n",
        "plt.figure(figsize=(10, 6))\r\n",
        "stock['Close'].plot(color = 'g', label = 'Close')\r\n",
        "ma.plot(color = 'y', label = 'Rolling Mean')\r\n",
        "std.plot(label = 'Rolling Standard Deviation')\r\n",
        "plt.legend()"
      ],
      "execution_count": null,
      "outputs": [
        {
          "output_type": "execute_result",
          "data": {
            "text/plain": [
              "<matplotlib.legend.Legend at 0x7f06f81c4c88>"
            ]
          },
          "metadata": {
            "tags": []
          },
          "execution_count": 8
        },
        {
          "output_type": "display_data",
          "data": {
            "image/png": "[encoded data removed]",
            "text/plain": [
              "<Figure size 720x432 with 1 Axes>"
            ]
          },
          "metadata": {
            "tags": [],
            "needs_background": "light"
          }
        }
      ]
    },
    {
      "cell_type": "code",
      "metadata": {
        "colab": {
          "base_uri": "https://localhost:8080/",
          "height": 407
        },
        "id": "aAHJkyAT4gUy",
        "outputId": "71ea84ef-3559-42f7-e6b4-5f5198cee1b7"
      },
      "source": [
        "#Plotting returns\r\n",
        "returns = close / close.shift(1) - 1\r\n",
        "\r\n",
        "plt.figure(figsize = (10,6))\r\n",
        "returns.plot(label='Return', color = 'r')\r\n",
        "plt.title(\"Returns\")"
      ],
      "execution_count": null,
      "outputs": [
        {
          "output_type": "execute_result",
          "data": {
            "text/plain": [
              "Text(0.5, 1.0, 'Returns')"
            ]
          },
          "metadata": {
            "tags": []
          },
          "execution_count": 9
        },
        {
          "output_type": "display_data",
          "data": {
            "image/png": "[encoded data removed]",
            "text/plain": [
              "<Figure size 720x432 with 1 Axes>"
            ]
          },
          "metadata": {
            "tags": [],
            "needs_background": "light"
          }
        }
      ]
    },
    {
      "cell_type": "code",
      "metadata": {
        "id": "SQmpwvRq42EO"
      },
      "source": [
        "train = stock[:1000]\r\n",
        "test = stock[1000:]"
      ],
      "execution_count": null,
      "outputs": []
    },
    {
      "cell_type": "code",
      "metadata": {
        "colab": {
          "base_uri": "https://localhost:8080/",
          "height": 391
        },
        "id": "QDQinB9KWIxe",
        "outputId": "7c5351ab-23ea-48e2-b768-a11129694aa3"
      },
      "source": [
        "\r\n",
        "train_log = np.log(train['Close']) \r\n",
        "test_log = np.log(test['Close'])\r\n",
        "\r\n",
        "mav = train_log.rolling(50).mean() \r\n",
        "plt.figure(figsize = (10,6))\r\n",
        "plt.plot(train_log) \r\n",
        "plt.plot(mav, color = 'orange')"
      ],
      "execution_count": null,
      "outputs": [
        {
          "output_type": "execute_result",
          "data": {
            "text/plain": [
              "[<matplotlib.lines.Line2D at 0x7f06f7bf7b00>]"
            ]
          },
          "metadata": {
            "tags": []
          },
          "execution_count": 12
        },
        {
          "output_type": "display_data",
          "data": {
            "image/png": "[encoded data removed]",
            "text/plain": [
              "<Figure size 720x432 with 1 Axes>"
            ]
          },
          "metadata": {
            "tags": [],
            "needs_background": "light"
          }
        }
      ]
    },
    {
      "cell_type": "code",
      "metadata": {
        "id": "6BFx5hM81xze"
      },
      "source": [
        "train.drop(['Date'], axis = 1, inplace = True) \r\n",
        "test.drop(['Date'], axis = 1, inplace = True)"
      ],
      "execution_count": null,
      "outputs": []
    },
    {
      "cell_type": "code",
      "metadata": {
        "colab": {
          "base_uri": "https://localhost:8080/",
          "height": 402
        },
        "id": "abgtxKBJ19Pu",
        "outputId": "9f82b90f-d1f7-4e56-d749-b86270c5afe4"
      },
      "source": [
        "train"
      ],
      "execution_count": null,
      "outputs": [
        {
          "output_type": "execute_result",
          "data": {
            "text/html": [
              "<div>\n",
              "<style scoped>\n",
              "    .dataframe tbody tr th:only-of-type {\n",
              "        vertical-align: middle;\n",
              "    }\n",
              "\n",
              "    .dataframe tbody tr th {\n",
              "        vertical-align: top;\n",
              "    }\n",
              "\n",
              "    .dataframe thead th {\n",
              "        text-align: right;\n",
              "    }\n",
              "</style>\n",
              "<table border=\"1\" class=\"dataframe\">\n",
              "  <thead>\n",
              "    <tr style=\"text-align: right;\">\n",
              "      <th></th>\n",
              "      <th>Open</th>\n",
              "      <th>High</th>\n",
              "      <th>Low</th>\n",
              "      <th>Close</th>\n",
              "      <th>Adj Close</th>\n",
              "      <th>Volume</th>\n",
              "    </tr>\n",
              "  </thead>\n",
              "  <tbody>\n",
              "    <tr>\n",
              "      <th>0</th>\n",
              "      <td>27521.279297</td>\n",
              "      <td>27937.470703</td>\n",
              "      <td>27519.259766</td>\n",
              "      <td>27887.900391</td>\n",
              "      <td>27887.900391</td>\n",
              "      <td>7400.0</td>\n",
              "    </tr>\n",
              "    <tr>\n",
              "      <th>1</th>\n",
              "      <td>27978.429688</td>\n",
              "      <td>28064.490234</td>\n",
              "      <td>27786.849609</td>\n",
              "      <td>27842.320313</td>\n",
              "      <td>27842.320313</td>\n",
              "      <td>9200.0</td>\n",
              "    </tr>\n",
              "    <tr>\n",
              "      <th>2</th>\n",
              "      <td>27694.230469</td>\n",
              "      <td>27698.929688</td>\n",
              "      <td>26937.060547</td>\n",
              "      <td>26987.460938</td>\n",
              "      <td>26987.460938</td>\n",
              "      <td>14100.0</td>\n",
              "    </tr>\n",
              "    <tr>\n",
              "      <th>3</th>\n",
              "      <td>26983.429688</td>\n",
              "      <td>27051.599609</td>\n",
              "      <td>26776.119141</td>\n",
              "      <td>26908.820313</td>\n",
              "      <td>26908.820313</td>\n",
              "      <td>12200.0</td>\n",
              "    </tr>\n",
              "    <tr>\n",
              "      <th>4</th>\n",
              "      <td>27178.769531</td>\n",
              "      <td>27316.410156</td>\n",
              "      <td>27101.939453</td>\n",
              "      <td>27274.710938</td>\n",
              "      <td>27274.710938</td>\n",
              "      <td>8200.0</td>\n",
              "    </tr>\n",
              "    <tr>\n",
              "      <th>...</th>\n",
              "      <td>...</td>\n",
              "      <td>...</td>\n",
              "      <td>...</td>\n",
              "      <td>...</td>\n",
              "      <td>...</td>\n",
              "      <td>...</td>\n",
              "    </tr>\n",
              "    <tr>\n",
              "      <th>998</th>\n",
              "      <td>36413.601563</td>\n",
              "      <td>36468.421875</td>\n",
              "      <td>36170.800781</td>\n",
              "      <td>36374.078125</td>\n",
              "      <td>36374.078125</td>\n",
              "      <td>20500.0</td>\n",
              "    </tr>\n",
              "    <tr>\n",
              "      <th>999</th>\n",
              "      <td>36417.578125</td>\n",
              "      <td>36469.980469</td>\n",
              "      <td>36218.328125</td>\n",
              "      <td>36386.609375</td>\n",
              "      <td>36386.609375</td>\n",
              "      <td>20800.0</td>\n",
              "    </tr>\n",
              "    <tr>\n",
              "      <th>1000</th>\n",
              "      <td>36467.121094</td>\n",
              "      <td>36701.031250</td>\n",
              "      <td>36351.769531</td>\n",
              "      <td>36578.960938</td>\n",
              "      <td>36578.960938</td>\n",
              "      <td>18700.0</td>\n",
              "    </tr>\n",
              "    <tr>\n",
              "      <th>1001</th>\n",
              "      <td>36649.921875</td>\n",
              "      <td>36650.468750</td>\n",
              "      <td>36282.929688</td>\n",
              "      <td>36444.640625</td>\n",
              "      <td>36444.640625</td>\n",
              "      <td>17300.0</td>\n",
              "    </tr>\n",
              "    <tr>\n",
              "      <th>1002</th>\n",
              "      <td>36494.121094</td>\n",
              "      <td>36521.468750</td>\n",
              "      <td>36037.898438</td>\n",
              "      <td>36108.468750</td>\n",
              "      <td>36108.468750</td>\n",
              "      <td>14300.0</td>\n",
              "    </tr>\n",
              "  </tbody>\n",
              "</table>\n",
              "<p>1000 rows × 6 columns</p>\n",
              "</div>"
            ],
            "text/plain": [
              "              Open          High  ...     Adj Close   Volume\n",
              "0     27521.279297  27937.470703  ...  27887.900391   7400.0\n",
              "1     27978.429688  28064.490234  ...  27842.320313   9200.0\n",
              "2     27694.230469  27698.929688  ...  26987.460938  14100.0\n",
              "3     26983.429688  27051.599609  ...  26908.820313  12200.0\n",
              "4     27178.769531  27316.410156  ...  27274.710938   8200.0\n",
              "...            ...           ...  ...           ...      ...\n",
              "998   36413.601563  36468.421875  ...  36374.078125  20500.0\n",
              "999   36417.578125  36469.980469  ...  36386.609375  20800.0\n",
              "1000  36467.121094  36701.031250  ...  36578.960938  18700.0\n",
              "1001  36649.921875  36650.468750  ...  36444.640625  17300.0\n",
              "1002  36494.121094  36521.468750  ...  36108.468750  14300.0\n",
              "\n",
              "[1000 rows x 6 columns]"
            ]
          },
          "metadata": {
            "tags": []
          },
          "execution_count": 16
        }
      ]
    },
    {
      "cell_type": "code",
      "metadata": {
        "colab": {
          "base_uri": "https://localhost:8080/",
          "height": 402
        },
        "id": "Zh6Z5MeY76Tk",
        "outputId": "04cf6c58-a645-452f-ce01-95b8f8d030c7"
      },
      "source": [
        "test"
      ],
      "execution_count": null,
      "outputs": [
        {
          "output_type": "execute_result",
          "data": {
            "text/html": [
              "<div>\n",
              "<style scoped>\n",
              "    .dataframe tbody tr th:only-of-type {\n",
              "        vertical-align: middle;\n",
              "    }\n",
              "\n",
              "    .dataframe tbody tr th {\n",
              "        vertical-align: top;\n",
              "    }\n",
              "\n",
              "    .dataframe thead th {\n",
              "        text-align: right;\n",
              "    }\n",
              "</style>\n",
              "<table border=\"1\" class=\"dataframe\">\n",
              "  <thead>\n",
              "    <tr style=\"text-align: right;\">\n",
              "      <th></th>\n",
              "      <th>Open</th>\n",
              "      <th>High</th>\n",
              "      <th>Low</th>\n",
              "      <th>Close</th>\n",
              "      <th>Adj Close</th>\n",
              "      <th>Volume</th>\n",
              "    </tr>\n",
              "  </thead>\n",
              "  <tbody>\n",
              "    <tr>\n",
              "      <th>1003</th>\n",
              "      <td>36146.550781</td>\n",
              "      <td>36258.281250</td>\n",
              "      <td>35996.679688</td>\n",
              "      <td>36195.101563</td>\n",
              "      <td>36195.101563</td>\n",
              "      <td>23100.0</td>\n",
              "    </tr>\n",
              "    <tr>\n",
              "      <th>1004</th>\n",
              "      <td>36245.769531</td>\n",
              "      <td>36474.480469</td>\n",
              "      <td>35953.148438</td>\n",
              "      <td>36025.539063</td>\n",
              "      <td>36025.539063</td>\n",
              "      <td>23000.0</td>\n",
              "    </tr>\n",
              "    <tr>\n",
              "      <th>1005</th>\n",
              "      <td>36099.621094</td>\n",
              "      <td>36124.261719</td>\n",
              "      <td>35565.148438</td>\n",
              "      <td>35656.699219</td>\n",
              "      <td>35656.699219</td>\n",
              "      <td>15000.0</td>\n",
              "    </tr>\n",
              "    <tr>\n",
              "      <th>1006</th>\n",
              "      <td>35716.718750</td>\n",
              "      <td>35734.140625</td>\n",
              "      <td>35375.511719</td>\n",
              "      <td>35592.500000</td>\n",
              "      <td>35592.500000</td>\n",
              "      <td>16670300.0</td>\n",
              "    </tr>\n",
              "    <tr>\n",
              "      <th>1007</th>\n",
              "      <td>35819.671875</td>\n",
              "      <td>35850.410156</td>\n",
              "      <td>35490.968750</td>\n",
              "      <td>35591.250000</td>\n",
              "      <td>35591.250000</td>\n",
              "      <td>18974200.0</td>\n",
              "    </tr>\n",
              "    <tr>\n",
              "      <th>...</th>\n",
              "      <td>...</td>\n",
              "      <td>...</td>\n",
              "      <td>...</td>\n",
              "      <td>...</td>\n",
              "      <td>...</td>\n",
              "      <td>...</td>\n",
              "    </tr>\n",
              "    <tr>\n",
              "      <th>1356</th>\n",
              "      <td>36738.378906</td>\n",
              "      <td>36828.429688</td>\n",
              "      <td>36234.171875</td>\n",
              "      <td>36329.011719</td>\n",
              "      <td>36329.011719</td>\n",
              "      <td>24800.0</td>\n",
              "    </tr>\n",
              "    <tr>\n",
              "      <th>1357</th>\n",
              "      <td>36450.691406</td>\n",
              "      <td>36806.300781</td>\n",
              "      <td>36422.300781</td>\n",
              "      <td>36737.691406</td>\n",
              "      <td>36737.691406</td>\n",
              "      <td>17400.0</td>\n",
              "    </tr>\n",
              "    <tr>\n",
              "      <th>1358</th>\n",
              "      <td>36555.128906</td>\n",
              "      <td>36748.890625</td>\n",
              "      <td>36401.109375</td>\n",
              "      <td>36594.328125</td>\n",
              "      <td>36594.328125</td>\n",
              "      <td>20900.0</td>\n",
              "    </tr>\n",
              "    <tr>\n",
              "      <th>1359</th>\n",
              "      <td>36880.660156</td>\n",
              "      <td>37024.199219</td>\n",
              "      <td>36533.960938</td>\n",
              "      <td>36693.691406</td>\n",
              "      <td>36693.691406</td>\n",
              "      <td>16500.0</td>\n",
              "    </tr>\n",
              "    <tr>\n",
              "      <th>1360</th>\n",
              "      <td>36517.281250</td>\n",
              "      <td>36538.101563</td>\n",
              "      <td>35877.421875</td>\n",
              "      <td>36033.058594</td>\n",
              "      <td>36033.058594</td>\n",
              "      <td>14100.0</td>\n",
              "    </tr>\n",
              "  </tbody>\n",
              "</table>\n",
              "<p>356 rows × 6 columns</p>\n",
              "</div>"
            ],
            "text/plain": [
              "              Open          High  ...     Adj Close      Volume\n",
              "1003  36146.550781  36258.281250  ...  36195.101563     23100.0\n",
              "1004  36245.769531  36474.480469  ...  36025.539063     23000.0\n",
              "1005  36099.621094  36124.261719  ...  35656.699219     15000.0\n",
              "1006  35716.718750  35734.140625  ...  35592.500000  16670300.0\n",
              "1007  35819.671875  35850.410156  ...  35591.250000  18974200.0\n",
              "...            ...           ...  ...           ...         ...\n",
              "1356  36738.378906  36828.429688  ...  36329.011719     24800.0\n",
              "1357  36450.691406  36806.300781  ...  36737.691406     17400.0\n",
              "1358  36555.128906  36748.890625  ...  36594.328125     20900.0\n",
              "1359  36880.660156  37024.199219  ...  36693.691406     16500.0\n",
              "1360  36517.281250  36538.101563  ...  36033.058594     14100.0\n",
              "\n",
              "[356 rows x 6 columns]"
            ]
          },
          "metadata": {
            "tags": []
          },
          "execution_count": 17
        }
      ]
    },
    {
      "cell_type": "code",
      "metadata": {
        "colab": {
          "base_uri": "https://localhost:8080/"
        },
        "id": "IcSNWyyrz179",
        "outputId": "34825a43-f526-4d00-ac9d-bd10336b2e77"
      },
      "source": [
        "from pmdarima import auto_arima\r\n",
        "model = auto_arima(train_log, trace = True, error_action = 'ignore', suppress_warnings = True)\r\n",
        "model.fit(train_log)\r\n",
        "predictions = model.predict(n_periods = len(test))\r\n",
        "predictions = pd.DataFrame(predictions,index = test_log.index,columns=['Prediction'])"
      ],
      "execution_count": null,
      "outputs": [
        {
          "output_type": "stream",
          "text": [
            "Performing stepwise search to minimize aic\n",
            " ARIMA(2,1,2)(0,0,0)[0] intercept   : AIC=-6695.838, Time=1.12 sec\n",
            " ARIMA(0,1,0)(0,0,0)[0] intercept   : AIC=-6700.141, Time=0.17 sec\n",
            " ARIMA(1,1,0)(0,0,0)[0] intercept   : AIC=-6701.586, Time=0.19 sec\n",
            " ARIMA(0,1,1)(0,0,0)[0] intercept   : AIC=-6701.681, Time=0.16 sec\n",
            " ARIMA(0,1,0)(0,0,0)[0]             : AIC=-6701.204, Time=0.05 sec\n",
            " ARIMA(1,1,1)(0,0,0)[0] intercept   : AIC=-6700.257, Time=0.74 sec\n",
            " ARIMA(0,1,2)(0,0,0)[0] intercept   : AIC=-6699.799, Time=0.71 sec\n",
            " ARIMA(1,1,2)(0,0,0)[0] intercept   : AIC=-6697.783, Time=0.52 sec\n",
            " ARIMA(0,1,1)(0,0,0)[0]             : AIC=-6702.851, Time=0.14 sec\n",
            " ARIMA(1,1,1)(0,0,0)[0]             : AIC=-6701.366, Time=0.23 sec\n",
            " ARIMA(0,1,2)(0,0,0)[0]             : AIC=-6700.941, Time=0.12 sec\n",
            " ARIMA(1,1,0)(0,0,0)[0]             : AIC=-6702.758, Time=0.12 sec\n",
            " ARIMA(1,1,2)(0,0,0)[0]             : AIC=-6698.902, Time=0.45 sec\n",
            "\n",
            "Best model:  ARIMA(0,1,1)(0,0,0)[0]          \n",
            "Total fit time: 4.732 seconds\n"
          ],
          "name": "stdout"
        }
      ]
    },
    {
      "cell_type": "code",
      "metadata": {
        "colab": {
          "base_uri": "https://localhost:8080/",
          "height": 312
        },
        "id": "a49_F2u7216P",
        "outputId": "be63637e-6f4b-45e4-b3ba-6a71bac7b3df"
      },
      "source": [
        "plt.plot(train_log, label='Train')\r\n",
        "plt.plot(test_log, label='Test')\r\n",
        "plt.plot(predictions, label='Prediction')\r\n",
        "plt.title('BSESN Stock Price Prediction')\r\n",
        "plt.xlabel('Time')\r\n",
        "plt.ylabel('Actual Stock Price')"
      ],
      "execution_count": null,
      "outputs": [
        {
          "output_type": "execute_result",
          "data": {
            "text/plain": [
              "Text(0, 0.5, 'Actual Stock Price')"
            ]
          },
          "metadata": {
            "tags": []
          },
          "execution_count": 19
        },
        {
          "output_type": "display_data",
          "data": {
            "image/png": "[encoded data removed]",
            "text/plain": [
              "<Figure size 432x288 with 1 Axes>"
            ]
          },
          "metadata": {
            "tags": [],
            "needs_background": "light"
          }
        }
      ]
    },
    {
      "cell_type": "code",
      "metadata": {
        "colab": {
          "base_uri": "https://localhost:8080/"
        },
        "id": "QgN2e5ZC25ss",
        "outputId": "0a1b54cd-7011-4451-ceaa-50ce19341a91"
      },
      "source": [
        "#Calculating error\r\n",
        "rms = np.sqrt(mean_squared_error(test_log,predictions))\r\n",
        "print(\"RMSE : \", rms)"
      ],
      "execution_count": null,
      "outputs": [
        {
          "output_type": "stream",
          "text": [
            "RMSE :  0.10028841890731799\n"
          ],
          "name": "stdout"
        }
      ]
    },
    {
      "cell_type": "markdown",
      "metadata": {
        "id": "wk4yKKyk2Dfk"
      },
      "source": [
        "# Textual Analysis\r\n"
      ]
    },
    {
      "cell_type": "code",
      "metadata": {
        "colab": {
          "base_uri": "https://localhost:8080/",
          "height": 402
        },
        "id": "0uVi0zF02QSU",
        "outputId": "a1324ced-3ea4-406c-e0d7-6da7d71acf3a"
      },
      "source": [
        "cols = ['Date','Category','News']\r\n",
        "news_data = pd.read_csv('/content/india-news-headlines.csv', names = cols)\r\n",
        "news_data"
      ],
      "execution_count": null,
      "outputs": [
        {
          "output_type": "execute_result",
          "data": {
            "text/html": [
              "<div>\n",
              "<style scoped>\n",
              "    .dataframe tbody tr th:only-of-type {\n",
              "        vertical-align: middle;\n",
              "    }\n",
              "\n",
              "    .dataframe tbody tr th {\n",
              "        vertical-align: top;\n",
              "    }\n",
              "\n",
              "    .dataframe thead th {\n",
              "        text-align: right;\n",
              "    }\n",
              "</style>\n",
              "<table border=\"1\" class=\"dataframe\">\n",
              "  <thead>\n",
              "    <tr style=\"text-align: right;\">\n",
              "      <th></th>\n",
              "      <th>Date</th>\n",
              "      <th>Category</th>\n",
              "      <th>News</th>\n",
              "    </tr>\n",
              "  </thead>\n",
              "  <tbody>\n",
              "    <tr>\n",
              "      <th>0</th>\n",
              "      <td>publish_date</td>\n",
              "      <td>headline_category</td>\n",
              "      <td>headline_text</td>\n",
              "    </tr>\n",
              "    <tr>\n",
              "      <th>1</th>\n",
              "      <td>20010101</td>\n",
              "      <td>sports.wwe</td>\n",
              "      <td>win over cena satisfying but defeating underta...</td>\n",
              "    </tr>\n",
              "    <tr>\n",
              "      <th>2</th>\n",
              "      <td>20010102</td>\n",
              "      <td>unknown</td>\n",
              "      <td>Status quo will not be disturbed at Ayodhya; s...</td>\n",
              "    </tr>\n",
              "    <tr>\n",
              "      <th>3</th>\n",
              "      <td>20010102</td>\n",
              "      <td>unknown</td>\n",
              "      <td>Fissures in Hurriyat over Pak visit</td>\n",
              "    </tr>\n",
              "    <tr>\n",
              "      <th>4</th>\n",
              "      <td>20010102</td>\n",
              "      <td>unknown</td>\n",
              "      <td>America's unwanted heading for India?</td>\n",
              "    </tr>\n",
              "    <tr>\n",
              "      <th>...</th>\n",
              "      <td>...</td>\n",
              "      <td>...</td>\n",
              "      <td>...</td>\n",
              "    </tr>\n",
              "    <tr>\n",
              "      <th>3297168</th>\n",
              "      <td>20200630</td>\n",
              "      <td>gadgets-news</td>\n",
              "      <td>why tiktok removed 1 65 crore videos in india</td>\n",
              "    </tr>\n",
              "    <tr>\n",
              "      <th>3297169</th>\n",
              "      <td>20200630</td>\n",
              "      <td>entertainment.hindi.bollywood</td>\n",
              "      <td>apurva asrani calls alia bhatts mother soni ra...</td>\n",
              "    </tr>\n",
              "    <tr>\n",
              "      <th>3297170</th>\n",
              "      <td>20200630</td>\n",
              "      <td>entertainment.hindi.bollywood</td>\n",
              "      <td>kangana ranaut gets a doll version of herself ...</td>\n",
              "    </tr>\n",
              "    <tr>\n",
              "      <th>3297171</th>\n",
              "      <td>20200630</td>\n",
              "      <td>entertainment.hindi.bollywood</td>\n",
              "      <td>meezaan jaffrey reminisces his childhood days ...</td>\n",
              "    </tr>\n",
              "    <tr>\n",
              "      <th>3297172</th>\n",
              "      <td>20200630</td>\n",
              "      <td>entertainment.telugu.movies.news</td>\n",
              "      <td>prabhas20 titled as radhe shyam prabhas and po...</td>\n",
              "    </tr>\n",
              "  </tbody>\n",
              "</table>\n",
              "<p>3297173 rows × 3 columns</p>\n",
              "</div>"
            ],
            "text/plain": [
              "                 Date  ...                                               News\n",
              "0        publish_date  ...                                      headline_text\n",
              "1            20010101  ...  win over cena satisfying but defeating underta...\n",
              "2            20010102  ...  Status quo will not be disturbed at Ayodhya; s...\n",
              "3            20010102  ...                Fissures in Hurriyat over Pak visit\n",
              "4            20010102  ...              America's unwanted heading for India?\n",
              "...               ...  ...                                                ...\n",
              "3297168      20200630  ...      why tiktok removed 1 65 crore videos in india\n",
              "3297169      20200630  ...  apurva asrani calls alia bhatts mother soni ra...\n",
              "3297170      20200630  ...  kangana ranaut gets a doll version of herself ...\n",
              "3297171      20200630  ...  meezaan jaffrey reminisces his childhood days ...\n",
              "3297172      20200630  ...  prabhas20 titled as radhe shyam prabhas and po...\n",
              "\n",
              "[3297173 rows x 3 columns]"
            ]
          },
          "metadata": {
            "tags": []
          },
          "execution_count": 88
        }
      ]
    },
    {
      "cell_type": "code",
      "metadata": {
        "colab": {
          "base_uri": "https://localhost:8080/"
        },
        "id": "RmbqZ8UJ2Tsg",
        "outputId": "49aee889-6ec5-4ea4-9bc7-8206156c2ff7"
      },
      "source": [
        "news_data.drop(0, inplace=True)\r\n",
        "\r\n",
        "news_data.drop('Category', axis = 1, inplace=True)\r\n",
        "news_data.info()"
      ],
      "execution_count": null,
      "outputs": [
        {
          "output_type": "stream",
          "text": [
            "<class 'pandas.core.frame.DataFrame'>\n",
            "Int64Index: 3297172 entries, 1 to 3297172\n",
            "Data columns (total 2 columns):\n",
            " #   Column  Dtype \n",
            "---  ------  ----- \n",
            " 0   Date    object\n",
            " 1   News    object\n",
            "dtypes: object(2)\n",
            "memory usage: 75.5+ MB\n"
          ],
          "name": "stdout"
        }
      ]
    },
    {
      "cell_type": "code",
      "metadata": {
        "colab": {
          "base_uri": "https://localhost:8080/",
          "height": 402
        },
        "id": "CpYbvtW727KI",
        "outputId": "b9971127-b907-48cb-8768-59b8b5fabde2"
      },
      "source": [
        "news_data['Date'] = pd.to_datetime(news_data['Date'],format= '%Y%m%d')\r\n",
        "news_data"
      ],
      "execution_count": null,
      "outputs": [
        {
          "output_type": "execute_result",
          "data": {
            "text/html": [
              "<div>\n",
              "<style scoped>\n",
              "    .dataframe tbody tr th:only-of-type {\n",
              "        vertical-align: middle;\n",
              "    }\n",
              "\n",
              "    .dataframe tbody tr th {\n",
              "        vertical-align: top;\n",
              "    }\n",
              "\n",
              "    .dataframe thead th {\n",
              "        text-align: right;\n",
              "    }\n",
              "</style>\n",
              "<table border=\"1\" class=\"dataframe\">\n",
              "  <thead>\n",
              "    <tr style=\"text-align: right;\">\n",
              "      <th></th>\n",
              "      <th>Date</th>\n",
              "      <th>News</th>\n",
              "    </tr>\n",
              "  </thead>\n",
              "  <tbody>\n",
              "    <tr>\n",
              "      <th>1</th>\n",
              "      <td>2001-01-01</td>\n",
              "      <td>win over cena satisfying but defeating underta...</td>\n",
              "    </tr>\n",
              "    <tr>\n",
              "      <th>2</th>\n",
              "      <td>2001-01-02</td>\n",
              "      <td>Status quo will not be disturbed at Ayodhya; s...</td>\n",
              "    </tr>\n",
              "    <tr>\n",
              "      <th>3</th>\n",
              "      <td>2001-01-02</td>\n",
              "      <td>Fissures in Hurriyat over Pak visit</td>\n",
              "    </tr>\n",
              "    <tr>\n",
              "      <th>4</th>\n",
              "      <td>2001-01-02</td>\n",
              "      <td>America's unwanted heading for India?</td>\n",
              "    </tr>\n",
              "    <tr>\n",
              "      <th>5</th>\n",
              "      <td>2001-01-02</td>\n",
              "      <td>For bigwigs; it is destination Goa</td>\n",
              "    </tr>\n",
              "    <tr>\n",
              "      <th>...</th>\n",
              "      <td>...</td>\n",
              "      <td>...</td>\n",
              "    </tr>\n",
              "    <tr>\n",
              "      <th>3297168</th>\n",
              "      <td>2020-06-30</td>\n",
              "      <td>why tiktok removed 1 65 crore videos in india</td>\n",
              "    </tr>\n",
              "    <tr>\n",
              "      <th>3297169</th>\n",
              "      <td>2020-06-30</td>\n",
              "      <td>apurva asrani calls alia bhatts mother soni ra...</td>\n",
              "    </tr>\n",
              "    <tr>\n",
              "      <th>3297170</th>\n",
              "      <td>2020-06-30</td>\n",
              "      <td>kangana ranaut gets a doll version of herself ...</td>\n",
              "    </tr>\n",
              "    <tr>\n",
              "      <th>3297171</th>\n",
              "      <td>2020-06-30</td>\n",
              "      <td>meezaan jaffrey reminisces his childhood days ...</td>\n",
              "    </tr>\n",
              "    <tr>\n",
              "      <th>3297172</th>\n",
              "      <td>2020-06-30</td>\n",
              "      <td>prabhas20 titled as radhe shyam prabhas and po...</td>\n",
              "    </tr>\n",
              "  </tbody>\n",
              "</table>\n",
              "<p>3297172 rows × 2 columns</p>\n",
              "</div>"
            ],
            "text/plain": [
              "              Date                                               News\n",
              "1       2001-01-01  win over cena satisfying but defeating underta...\n",
              "2       2001-01-02  Status quo will not be disturbed at Ayodhya; s...\n",
              "3       2001-01-02                Fissures in Hurriyat over Pak visit\n",
              "4       2001-01-02              America's unwanted heading for India?\n",
              "5       2001-01-02                 For bigwigs; it is destination Goa\n",
              "...            ...                                                ...\n",
              "3297168 2020-06-30      why tiktok removed 1 65 crore videos in india\n",
              "3297169 2020-06-30  apurva asrani calls alia bhatts mother soni ra...\n",
              "3297170 2020-06-30  kangana ranaut gets a doll version of herself ...\n",
              "3297171 2020-06-30  meezaan jaffrey reminisces his childhood days ...\n",
              "3297172 2020-06-30  prabhas20 titled as radhe shyam prabhas and po...\n",
              "\n",
              "[3297172 rows x 2 columns]"
            ]
          },
          "metadata": {
            "tags": []
          },
          "execution_count": 90
        }
      ]
    },
    {
      "cell_type": "code",
      "metadata": {
        "id": "xbZeVfiC286Z"
      },
      "source": [
        "df5=news_data"
      ],
      "execution_count": null,
      "outputs": []
    },
    {
      "cell_type": "code",
      "metadata": {
        "colab": {
          "base_uri": "https://localhost:8080/",
          "height": 402
        },
        "id": "55F9tMRP2_PL",
        "outputId": "6fb23e5e-496b-4548-b253-3e15df7e7cd1"
      },
      "source": [
        "news_data"
      ],
      "execution_count": null,
      "outputs": [
        {
          "output_type": "execute_result",
          "data": {
            "text/html": [
              "<div>\n",
              "<style scoped>\n",
              "    .dataframe tbody tr th:only-of-type {\n",
              "        vertical-align: middle;\n",
              "    }\n",
              "\n",
              "    .dataframe tbody tr th {\n",
              "        vertical-align: top;\n",
              "    }\n",
              "\n",
              "    .dataframe thead th {\n",
              "        text-align: right;\n",
              "    }\n",
              "</style>\n",
              "<table border=\"1\" class=\"dataframe\">\n",
              "  <thead>\n",
              "    <tr style=\"text-align: right;\">\n",
              "      <th></th>\n",
              "      <th>Date</th>\n",
              "      <th>News</th>\n",
              "    </tr>\n",
              "  </thead>\n",
              "  <tbody>\n",
              "    <tr>\n",
              "      <th>1</th>\n",
              "      <td>2001-01-01</td>\n",
              "      <td>win over cena satisfying but defeating underta...</td>\n",
              "    </tr>\n",
              "    <tr>\n",
              "      <th>2</th>\n",
              "      <td>2001-01-02</td>\n",
              "      <td>Status quo will not be disturbed at Ayodhya; s...</td>\n",
              "    </tr>\n",
              "    <tr>\n",
              "      <th>3</th>\n",
              "      <td>2001-01-02</td>\n",
              "      <td>Fissures in Hurriyat over Pak visit</td>\n",
              "    </tr>\n",
              "    <tr>\n",
              "      <th>4</th>\n",
              "      <td>2001-01-02</td>\n",
              "      <td>America's unwanted heading for India?</td>\n",
              "    </tr>\n",
              "    <tr>\n",
              "      <th>5</th>\n",
              "      <td>2001-01-02</td>\n",
              "      <td>For bigwigs; it is destination Goa</td>\n",
              "    </tr>\n",
              "    <tr>\n",
              "      <th>...</th>\n",
              "      <td>...</td>\n",
              "      <td>...</td>\n",
              "    </tr>\n",
              "    <tr>\n",
              "      <th>3297168</th>\n",
              "      <td>2020-06-30</td>\n",
              "      <td>why tiktok removed 1 65 crore videos in india</td>\n",
              "    </tr>\n",
              "    <tr>\n",
              "      <th>3297169</th>\n",
              "      <td>2020-06-30</td>\n",
              "      <td>apurva asrani calls alia bhatts mother soni ra...</td>\n",
              "    </tr>\n",
              "    <tr>\n",
              "      <th>3297170</th>\n",
              "      <td>2020-06-30</td>\n",
              "      <td>kangana ranaut gets a doll version of herself ...</td>\n",
              "    </tr>\n",
              "    <tr>\n",
              "      <th>3297171</th>\n",
              "      <td>2020-06-30</td>\n",
              "      <td>meezaan jaffrey reminisces his childhood days ...</td>\n",
              "    </tr>\n",
              "    <tr>\n",
              "      <th>3297172</th>\n",
              "      <td>2020-06-30</td>\n",
              "      <td>prabhas20 titled as radhe shyam prabhas and po...</td>\n",
              "    </tr>\n",
              "  </tbody>\n",
              "</table>\n",
              "<p>3297172 rows × 2 columns</p>\n",
              "</div>"
            ],
            "text/plain": [
              "              Date                                               News\n",
              "1       2001-01-01  win over cena satisfying but defeating underta...\n",
              "2       2001-01-02  Status quo will not be disturbed at Ayodhya; s...\n",
              "3       2001-01-02                Fissures in Hurriyat over Pak visit\n",
              "4       2001-01-02              America's unwanted heading for India?\n",
              "5       2001-01-02                 For bigwigs; it is destination Goa\n",
              "...            ...                                                ...\n",
              "3297168 2020-06-30      why tiktok removed 1 65 crore videos in india\n",
              "3297169 2020-06-30  apurva asrani calls alia bhatts mother soni ra...\n",
              "3297170 2020-06-30  kangana ranaut gets a doll version of herself ...\n",
              "3297171 2020-06-30  meezaan jaffrey reminisces his childhood days ...\n",
              "3297172 2020-06-30  prabhas20 titled as radhe shyam prabhas and po...\n",
              "\n",
              "[3297172 rows x 2 columns]"
            ]
          },
          "metadata": {
            "tags": []
          },
          "execution_count": 92
        }
      ]
    },
    {
      "cell_type": "code",
      "metadata": {
        "id": "GZ2xVVKg3AzJ"
      },
      "source": [
        "news_data['News'] = news_data.groupby(['Date']).transform(lambda x : ' '.join(x)) "
      ],
      "execution_count": null,
      "outputs": []
    },
    {
      "cell_type": "code",
      "metadata": {
        "colab": {
          "base_uri": "https://localhost:8080/",
          "height": 402
        },
        "id": "TYYNt1qC3GY9",
        "outputId": "4592cc65-5a01-44e3-c55f-73fd121ea037"
      },
      "source": [
        "news_data = news_data.drop_duplicates() \r\n",
        "news_data.reset_index(inplace = True, drop = True)\r\n",
        "news_data"
      ],
      "execution_count": null,
      "outputs": [
        {
          "output_type": "execute_result",
          "data": {
            "text/html": [
              "<div>\n",
              "<style scoped>\n",
              "    .dataframe tbody tr th:only-of-type {\n",
              "        vertical-align: middle;\n",
              "    }\n",
              "\n",
              "    .dataframe tbody tr th {\n",
              "        vertical-align: top;\n",
              "    }\n",
              "\n",
              "    .dataframe thead th {\n",
              "        text-align: right;\n",
              "    }\n",
              "</style>\n",
              "<table border=\"1\" class=\"dataframe\">\n",
              "  <thead>\n",
              "    <tr style=\"text-align: right;\">\n",
              "      <th></th>\n",
              "      <th>Date</th>\n",
              "      <th>News</th>\n",
              "    </tr>\n",
              "  </thead>\n",
              "  <tbody>\n",
              "    <tr>\n",
              "      <th>0</th>\n",
              "      <td>2001-01-01</td>\n",
              "      <td>win over cena satisfying but defeating underta...</td>\n",
              "    </tr>\n",
              "    <tr>\n",
              "      <th>1</th>\n",
              "      <td>2001-01-02</td>\n",
              "      <td>Status quo will not be disturbed at Ayodhya; s...</td>\n",
              "    </tr>\n",
              "    <tr>\n",
              "      <th>2</th>\n",
              "      <td>2001-01-03</td>\n",
              "      <td>Powerless north India gropes in the dark Think...</td>\n",
              "    </tr>\n",
              "    <tr>\n",
              "      <th>3</th>\n",
              "      <td>2001-01-04</td>\n",
              "      <td>The string that pulled Stephen Hawking to Indi...</td>\n",
              "    </tr>\n",
              "    <tr>\n",
              "      <th>4</th>\n",
              "      <td>2001-01-05</td>\n",
              "      <td>Light combat craft takes India into club class...</td>\n",
              "    </tr>\n",
              "    <tr>\n",
              "      <th>...</th>\n",
              "      <td>...</td>\n",
              "      <td>...</td>\n",
              "    </tr>\n",
              "    <tr>\n",
              "      <th>7075</th>\n",
              "      <td>2020-06-26</td>\n",
              "      <td>Containment zone residents slam high prices ch...</td>\n",
              "    </tr>\n",
              "    <tr>\n",
              "      <th>7076</th>\n",
              "      <td>2020-06-27</td>\n",
              "      <td>like me i wont let you have a toxic relationsh...</td>\n",
              "    </tr>\n",
              "    <tr>\n",
              "      <th>7077</th>\n",
              "      <td>2020-06-28</td>\n",
              "      <td>Atanu Ghosh plans to rewrite old scripts to ma...</td>\n",
              "    </tr>\n",
              "    <tr>\n",
              "      <th>7078</th>\n",
              "      <td>2020-06-29</td>\n",
              "      <td>6 hot and stylish bikini looks of Katrina Kaif...</td>\n",
              "    </tr>\n",
              "    <tr>\n",
              "      <th>7079</th>\n",
              "      <td>2020-06-30</td>\n",
              "      <td>Detective Byomkesh Bakshy! Edge of Tomorrow Fi...</td>\n",
              "    </tr>\n",
              "  </tbody>\n",
              "</table>\n",
              "<p>7080 rows × 2 columns</p>\n",
              "</div>"
            ],
            "text/plain": [
              "           Date                                               News\n",
              "0    2001-01-01  win over cena satisfying but defeating underta...\n",
              "1    2001-01-02  Status quo will not be disturbed at Ayodhya; s...\n",
              "2    2001-01-03  Powerless north India gropes in the dark Think...\n",
              "3    2001-01-04  The string that pulled Stephen Hawking to Indi...\n",
              "4    2001-01-05  Light combat craft takes India into club class...\n",
              "...         ...                                                ...\n",
              "7075 2020-06-26  Containment zone residents slam high prices ch...\n",
              "7076 2020-06-27  like me i wont let you have a toxic relationsh...\n",
              "7077 2020-06-28  Atanu Ghosh plans to rewrite old scripts to ma...\n",
              "7078 2020-06-29  6 hot and stylish bikini looks of Katrina Kaif...\n",
              "7079 2020-06-30  Detective Byomkesh Bakshy! Edge of Tomorrow Fi...\n",
              "\n",
              "[7080 rows x 2 columns]"
            ]
          },
          "metadata": {
            "tags": []
          },
          "execution_count": 94
        }
      ]
    },
    {
      "cell_type": "code",
      "metadata": {
        "colab": {
          "base_uri": "https://localhost:8080/"
        },
        "id": "TB_RLJyN3N3f",
        "outputId": "6fea517b-21c1-4dd1-988d-d2fecc0f5832"
      },
      "source": [
        "news_data['News']\r\n"
      ],
      "execution_count": null,
      "outputs": [
        {
          "output_type": "execute_result",
          "data": {
            "text/plain": [
              "0       win over cena satisfying but defeating underta...\n",
              "1       Status quo will not be disturbed at Ayodhya; s...\n",
              "2       Powerless north India gropes in the dark Think...\n",
              "3       The string that pulled Stephen Hawking to Indi...\n",
              "4       Light combat craft takes India into club class...\n",
              "                              ...                        \n",
              "7075    Containment zone residents slam high prices ch...\n",
              "7076    like me i wont let you have a toxic relationsh...\n",
              "7077    Atanu Ghosh plans to rewrite old scripts to ma...\n",
              "7078    6 hot and stylish bikini looks of Katrina Kaif...\n",
              "7079    Detective Byomkesh Bakshy! Edge of Tomorrow Fi...\n",
              "Name: News, Length: 7080, dtype: object"
            ]
          },
          "metadata": {
            "tags": []
          },
          "execution_count": 96
        }
      ]
    },
    {
      "cell_type": "code",
      "metadata": {
        "id": "uqD3nWNN3hVY"
      },
      "source": [
        "ps=PorterStemmer()"
      ],
      "execution_count": null,
      "outputs": []
    },
    {
      "cell_type": "code",
      "metadata": {
        "id": "h78xkZq53kMp"
      },
      "source": [
        "c = []\r\n",
        "for i in range(0,len(news_data['News'])):\r\n",
        "    news = re.sub('[^a-zA-Z]',' ',news_data['News'][i])\r\n",
        "    news = news.lower()\r\n",
        "    news = news.split()\r\n",
        "    news = [ps.stem(word) for word in news if not word in set(stopwords.words('english'))]\r\n",
        "    news=' '.join(news)\r\n",
        "    c.append(news)"
      ],
      "execution_count": null,
      "outputs": []
    },
    {
      "cell_type": "code",
      "metadata": {
        "id": "3TvHarq-3n2f",
        "colab": {
          "base_uri": "https://localhost:8080/",
          "height": 402
        },
        "outputId": "9d45ab3c-c5c3-442e-f00c-a4da238b1739"
      },
      "source": [
        "news_data['News'] = pd.Series(c)\r\n",
        "news_data"
      ],
      "execution_count": null,
      "outputs": [
        {
          "output_type": "execute_result",
          "data": {
            "text/html": [
              "<div>\n",
              "<style scoped>\n",
              "    .dataframe tbody tr th:only-of-type {\n",
              "        vertical-align: middle;\n",
              "    }\n",
              "\n",
              "    .dataframe tbody tr th {\n",
              "        vertical-align: top;\n",
              "    }\n",
              "\n",
              "    .dataframe thead th {\n",
              "        text-align: right;\n",
              "    }\n",
              "</style>\n",
              "<table border=\"1\" class=\"dataframe\">\n",
              "  <thead>\n",
              "    <tr style=\"text-align: right;\">\n",
              "      <th></th>\n",
              "      <th>Date</th>\n",
              "      <th>News</th>\n",
              "    </tr>\n",
              "  </thead>\n",
              "  <tbody>\n",
              "    <tr>\n",
              "      <th>0</th>\n",
              "      <td>2001-01-01</td>\n",
              "      <td>win cena satisfi defeat undertak bigger roman ...</td>\n",
              "    </tr>\n",
              "    <tr>\n",
              "      <th>1</th>\n",
              "      <td>2001-01-02</td>\n",
              "      <td>statu quo disturb ayodhya say vajpaye fissur h...</td>\n",
              "    </tr>\n",
              "    <tr>\n",
              "      <th>2</th>\n",
              "      <td>2001-01-03</td>\n",
              "      <td>powerless north india grope dark think laxman ...</td>\n",
              "    </tr>\n",
              "    <tr>\n",
              "      <th>3</th>\n",
              "      <td>2001-01-04</td>\n",
              "      <td>string pull stephen hawk india vajpaye give bi...</td>\n",
              "    </tr>\n",
              "    <tr>\n",
              "      <th>4</th>\n",
              "      <td>2001-01-05</td>\n",
              "      <td>light combat craft take india club class hawk ...</td>\n",
              "    </tr>\n",
              "    <tr>\n",
              "      <th>...</th>\n",
              "      <td>...</td>\n",
              "      <td>...</td>\n",
              "    </tr>\n",
              "    <tr>\n",
              "      <th>7075</th>\n",
              "      <td>2020-06-26</td>\n",
              "      <td>contain zone resid slam high price charg veget...</td>\n",
              "    </tr>\n",
              "    <tr>\n",
              "      <th>7076</th>\n",
              "      <td>2020-06-27</td>\n",
              "      <td>like wont let toxic relationship food major ra...</td>\n",
              "    </tr>\n",
              "    <tr>\n",
              "      <th>7077</th>\n",
              "      <td>2020-06-28</td>\n",
              "      <td>atanu ghosh plan rewrit old script make relev ...</td>\n",
              "    </tr>\n",
              "    <tr>\n",
              "      <th>7078</th>\n",
              "      <td>2020-06-29</td>\n",
              "      <td>hot stylish bikini look katrina kaif anna eden...</td>\n",
              "    </tr>\n",
              "    <tr>\n",
              "      <th>7079</th>\n",
              "      <td>2020-06-30</td>\n",
              "      <td>detect byomkesh bakshi edg tomorrow first look...</td>\n",
              "    </tr>\n",
              "  </tbody>\n",
              "</table>\n",
              "<p>7080 rows × 2 columns</p>\n",
              "</div>"
            ],
            "text/plain": [
              "           Date                                               News\n",
              "0    2001-01-01  win cena satisfi defeat undertak bigger roman ...\n",
              "1    2001-01-02  statu quo disturb ayodhya say vajpaye fissur h...\n",
              "2    2001-01-03  powerless north india grope dark think laxman ...\n",
              "3    2001-01-04  string pull stephen hawk india vajpaye give bi...\n",
              "4    2001-01-05  light combat craft take india club class hawk ...\n",
              "...         ...                                                ...\n",
              "7075 2020-06-26  contain zone resid slam high price charg veget...\n",
              "7076 2020-06-27  like wont let toxic relationship food major ra...\n",
              "7077 2020-06-28  atanu ghosh plan rewrit old script make relev ...\n",
              "7078 2020-06-29  hot stylish bikini look katrina kaif anna eden...\n",
              "7079 2020-06-30  detect byomkesh bakshi edg tomorrow first look...\n",
              "\n",
              "[7080 rows x 2 columns]"
            ]
          },
          "metadata": {
            "tags": []
          },
          "execution_count": 105
        }
      ]
    },
    {
      "cell_type": "code",
      "metadata": {
        "id": "2BkY8R1X3wit"
      },
      "source": [
        "#Functions to get the subjectivity and polarity\r\n",
        "def getSubjectivity(text):\r\n",
        "  return TextBlob(text).sentiment.subjectivity\r\n",
        "\r\n",
        "def getPolarity(text):\r\n",
        "  return  TextBlob(text).sentiment.polarity"
      ],
      "execution_count": null,
      "outputs": []
    },
    {
      "cell_type": "code",
      "metadata": {
        "id": "-1cPWjD-4lnN",
        "colab": {
          "base_uri": "https://localhost:8080/",
          "height": 402
        },
        "outputId": "1995ecb0-08fc-4d7c-e772-0363b8848595"
      },
      "source": [
        "news_data['Subjectivity'] = news_data['News'].apply(getSubjectivity)\r\n",
        "news_data['Polarity'] = news_data['News'].apply(getPolarity)\r\n",
        "news_data"
      ],
      "execution_count": null,
      "outputs": [
        {
          "output_type": "execute_result",
          "data": {
            "text/html": [
              "<div>\n",
              "<style scoped>\n",
              "    .dataframe tbody tr th:only-of-type {\n",
              "        vertical-align: middle;\n",
              "    }\n",
              "\n",
              "    .dataframe tbody tr th {\n",
              "        vertical-align: top;\n",
              "    }\n",
              "\n",
              "    .dataframe thead th {\n",
              "        text-align: right;\n",
              "    }\n",
              "</style>\n",
              "<table border=\"1\" class=\"dataframe\">\n",
              "  <thead>\n",
              "    <tr style=\"text-align: right;\">\n",
              "      <th></th>\n",
              "      <th>Date</th>\n",
              "      <th>News</th>\n",
              "      <th>Subjectivity</th>\n",
              "      <th>Polarity</th>\n",
              "    </tr>\n",
              "  </thead>\n",
              "  <tbody>\n",
              "    <tr>\n",
              "      <th>0</th>\n",
              "      <td>2001-01-01</td>\n",
              "      <td>win cena satisfi defeat undertak bigger roman ...</td>\n",
              "      <td>0.450000</td>\n",
              "      <td>0.400000</td>\n",
              "    </tr>\n",
              "    <tr>\n",
              "      <th>1</th>\n",
              "      <td>2001-01-02</td>\n",
              "      <td>statu quo disturb ayodhya say vajpaye fissur h...</td>\n",
              "      <td>0.298148</td>\n",
              "      <td>0.099074</td>\n",
              "    </tr>\n",
              "    <tr>\n",
              "      <th>2</th>\n",
              "      <td>2001-01-03</td>\n",
              "      <td>powerless north india grope dark think laxman ...</td>\n",
              "      <td>0.429167</td>\n",
              "      <td>0.025000</td>\n",
              "    </tr>\n",
              "    <tr>\n",
              "      <th>3</th>\n",
              "      <td>2001-01-04</td>\n",
              "      <td>string pull stephen hawk india vajpaye give bi...</td>\n",
              "      <td>0.475140</td>\n",
              "      <td>0.032481</td>\n",
              "    </tr>\n",
              "    <tr>\n",
              "      <th>4</th>\n",
              "      <td>2001-01-05</td>\n",
              "      <td>light combat craft take india club class hawk ...</td>\n",
              "      <td>0.458412</td>\n",
              "      <td>0.296404</td>\n",
              "    </tr>\n",
              "    <tr>\n",
              "      <th>...</th>\n",
              "      <td>...</td>\n",
              "      <td>...</td>\n",
              "      <td>...</td>\n",
              "      <td>...</td>\n",
              "    </tr>\n",
              "    <tr>\n",
              "      <th>7075</th>\n",
              "      <td>2020-06-26</td>\n",
              "      <td>contain zone resid slam high price charg veget...</td>\n",
              "      <td>0.330257</td>\n",
              "      <td>0.066958</td>\n",
              "    </tr>\n",
              "    <tr>\n",
              "      <th>7076</th>\n",
              "      <td>2020-06-27</td>\n",
              "      <td>like wont let toxic relationship food major ra...</td>\n",
              "      <td>0.372264</td>\n",
              "      <td>0.064784</td>\n",
              "    </tr>\n",
              "    <tr>\n",
              "      <th>7077</th>\n",
              "      <td>2020-06-28</td>\n",
              "      <td>atanu ghosh plan rewrit old script make relev ...</td>\n",
              "      <td>0.378165</td>\n",
              "      <td>0.054209</td>\n",
              "    </tr>\n",
              "    <tr>\n",
              "      <th>7078</th>\n",
              "      <td>2020-06-29</td>\n",
              "      <td>hot stylish bikini look katrina kaif anna eden...</td>\n",
              "      <td>0.373210</td>\n",
              "      <td>0.060782</td>\n",
              "    </tr>\n",
              "    <tr>\n",
              "      <th>7079</th>\n",
              "      <td>2020-06-30</td>\n",
              "      <td>detect byomkesh bakshi edg tomorrow first look...</td>\n",
              "      <td>0.349361</td>\n",
              "      <td>0.059465</td>\n",
              "    </tr>\n",
              "  </tbody>\n",
              "</table>\n",
              "<p>7080 rows × 4 columns</p>\n",
              "</div>"
            ],
            "text/plain": [
              "           Date  ...  Polarity\n",
              "0    2001-01-01  ...  0.400000\n",
              "1    2001-01-02  ...  0.099074\n",
              "2    2001-01-03  ...  0.025000\n",
              "3    2001-01-04  ...  0.032481\n",
              "4    2001-01-05  ...  0.296404\n",
              "...         ...  ...       ...\n",
              "7075 2020-06-26  ...  0.066958\n",
              "7076 2020-06-27  ...  0.064784\n",
              "7077 2020-06-28  ...  0.054209\n",
              "7078 2020-06-29  ...  0.060782\n",
              "7079 2020-06-30  ...  0.059465\n",
              "\n",
              "[7080 rows x 4 columns]"
            ]
          },
          "metadata": {
            "tags": []
          },
          "execution_count": 107
        }
      ]
    },
    {
      "cell_type": "code",
      "metadata": {
        "id": "S0v0S_7B6YgS",
        "colab": {
          "base_uri": "https://localhost:8080/",
          "height": 391
        },
        "outputId": "fd500ee3-7050-44bc-b802-1f07eff96b60"
      },
      "source": [
        "\r\n",
        "plt.figure(figsize = (10,6))\r\n",
        "news_data['Polarity'].hist(color = 'purple')"
      ],
      "execution_count": null,
      "outputs": [
        {
          "output_type": "execute_result",
          "data": {
            "text/plain": [
              "<matplotlib.axes._subplots.AxesSubplot at 0x7f5a3a46cb70>"
            ]
          },
          "metadata": {
            "tags": []
          },
          "execution_count": 108
        },
        {
          "output_type": "display_data",
          "data": {
            "image/png": "[encoded data removed]",
            "text/plain": [
              "<Figure size 720x432 with 1 Axes>"
            ]
          },
          "metadata": {
            "tags": [],
            "needs_background": "light"
          }
        }
      ]
    },
    {
      "cell_type": "code",
      "metadata": {
        "colab": {
          "base_uri": "https://localhost:8080/",
          "height": 282
        },
        "id": "8xZ832g0J-0S",
        "outputId": "b1f65eb3-4b79-4dcd-b037-9a2bbf6932d5"
      },
      "source": [
        "news_data['Subjectivity'].hist(color = 'blue')"
      ],
      "execution_count": null,
      "outputs": [
        {
          "output_type": "execute_result",
          "data": {
            "text/plain": [
              "<matplotlib.axes._subplots.AxesSubplot at 0x7f5a3a47d518>"
            ]
          },
          "metadata": {
            "tags": []
          },
          "execution_count": 109
        },
        {
          "output_type": "display_data",
          "data": {
            "image/png": "[encoded data removed]",
            "text/plain": [
              "<Figure size 432x288 with 1 Axes>"
            ]
          },
          "metadata": {
            "tags": [],
            "needs_background": "light"
          }
        }
      ]
    },
    {
      "cell_type": "code",
      "metadata": {
        "colab": {
          "base_uri": "https://localhost:8080/",
          "height": 402
        },
        "id": "kxDYf8AaKBiL",
        "outputId": "2c6d0573-6b41-4d04-b2dd-14b5a24e5d1d"
      },
      "source": [
        "sia = SentimentIntensityAnalyzer()\r\n",
        "\r\n",
        "news_data['Compound'] = [sia.polarity_scores(v)['compound'] for v in news_data['News']]\r\n",
        "news_data['Negative'] = [sia.polarity_scores(v)['neg'] for v in news_data['News']]\r\n",
        "news_data['Neutral'] = [sia.polarity_scores(v)['neu'] for v in news_data['News']]\r\n",
        "news_data['Positive'] = [sia.polarity_scores(v)['pos'] for v in news_data['News']]\r\n",
        "news_data"
      ],
      "execution_count": null,
      "outputs": [
        {
          "output_type": "execute_result",
          "data": {
            "text/html": [
              "<div>\n",
              "<style scoped>\n",
              "    .dataframe tbody tr th:only-of-type {\n",
              "        vertical-align: middle;\n",
              "    }\n",
              "\n",
              "    .dataframe tbody tr th {\n",
              "        vertical-align: top;\n",
              "    }\n",
              "\n",
              "    .dataframe thead th {\n",
              "        text-align: right;\n",
              "    }\n",
              "</style>\n",
              "<table border=\"1\" class=\"dataframe\">\n",
              "  <thead>\n",
              "    <tr style=\"text-align: right;\">\n",
              "      <th></th>\n",
              "      <th>Date</th>\n",
              "      <th>News</th>\n",
              "      <th>Subjectivity</th>\n",
              "      <th>Polarity</th>\n",
              "      <th>Compound</th>\n",
              "      <th>Negative</th>\n",
              "      <th>Neutral</th>\n",
              "      <th>Positive</th>\n",
              "    </tr>\n",
              "  </thead>\n",
              "  <tbody>\n",
              "    <tr>\n",
              "      <th>0</th>\n",
              "      <td>2001-01-01</td>\n",
              "      <td>win cena satisfi defeat undertak bigger roman ...</td>\n",
              "      <td>0.450000</td>\n",
              "      <td>0.400000</td>\n",
              "      <td>0.2023</td>\n",
              "      <td>0.234</td>\n",
              "      <td>0.469</td>\n",
              "      <td>0.297</td>\n",
              "    </tr>\n",
              "    <tr>\n",
              "      <th>1</th>\n",
              "      <td>2001-01-02</td>\n",
              "      <td>statu quo disturb ayodhya say vajpaye fissur h...</td>\n",
              "      <td>0.298148</td>\n",
              "      <td>0.099074</td>\n",
              "      <td>-0.8555</td>\n",
              "      <td>0.125</td>\n",
              "      <td>0.773</td>\n",
              "      <td>0.102</td>\n",
              "    </tr>\n",
              "    <tr>\n",
              "      <th>2</th>\n",
              "      <td>2001-01-03</td>\n",
              "      <td>powerless north india grope dark think laxman ...</td>\n",
              "      <td>0.429167</td>\n",
              "      <td>0.025000</td>\n",
              "      <td>-0.5994</td>\n",
              "      <td>0.132</td>\n",
              "      <td>0.755</td>\n",
              "      <td>0.113</td>\n",
              "    </tr>\n",
              "    <tr>\n",
              "      <th>3</th>\n",
              "      <td>2001-01-04</td>\n",
              "      <td>string pull stephen hawk india vajpaye give bi...</td>\n",
              "      <td>0.475140</td>\n",
              "      <td>0.032481</td>\n",
              "      <td>0.9169</td>\n",
              "      <td>0.099</td>\n",
              "      <td>0.791</td>\n",
              "      <td>0.110</td>\n",
              "    </tr>\n",
              "    <tr>\n",
              "      <th>4</th>\n",
              "      <td>2001-01-05</td>\n",
              "      <td>light combat craft take india club class hawk ...</td>\n",
              "      <td>0.458412</td>\n",
              "      <td>0.296404</td>\n",
              "      <td>-0.3612</td>\n",
              "      <td>0.171</td>\n",
              "      <td>0.659</td>\n",
              "      <td>0.170</td>\n",
              "    </tr>\n",
              "    <tr>\n",
              "      <th>...</th>\n",
              "      <td>...</td>\n",
              "      <td>...</td>\n",
              "      <td>...</td>\n",
              "      <td>...</td>\n",
              "      <td>...</td>\n",
              "      <td>...</td>\n",
              "      <td>...</td>\n",
              "      <td>...</td>\n",
              "    </tr>\n",
              "    <tr>\n",
              "      <th>7075</th>\n",
              "      <td>2020-06-26</td>\n",
              "      <td>contain zone resid slam high price charg veget...</td>\n",
              "      <td>0.330257</td>\n",
              "      <td>0.066958</td>\n",
              "      <td>-0.9998</td>\n",
              "      <td>0.142</td>\n",
              "      <td>0.789</td>\n",
              "      <td>0.069</td>\n",
              "    </tr>\n",
              "    <tr>\n",
              "      <th>7076</th>\n",
              "      <td>2020-06-27</td>\n",
              "      <td>like wont let toxic relationship food major ra...</td>\n",
              "      <td>0.372264</td>\n",
              "      <td>0.064784</td>\n",
              "      <td>-0.9998</td>\n",
              "      <td>0.139</td>\n",
              "      <td>0.790</td>\n",
              "      <td>0.070</td>\n",
              "    </tr>\n",
              "    <tr>\n",
              "      <th>7077</th>\n",
              "      <td>2020-06-28</td>\n",
              "      <td>atanu ghosh plan rewrit old script make relev ...</td>\n",
              "      <td>0.378165</td>\n",
              "      <td>0.054209</td>\n",
              "      <td>-0.9998</td>\n",
              "      <td>0.136</td>\n",
              "      <td>0.800</td>\n",
              "      <td>0.064</td>\n",
              "    </tr>\n",
              "    <tr>\n",
              "      <th>7078</th>\n",
              "      <td>2020-06-29</td>\n",
              "      <td>hot stylish bikini look katrina kaif anna eden...</td>\n",
              "      <td>0.373210</td>\n",
              "      <td>0.060782</td>\n",
              "      <td>-0.9998</td>\n",
              "      <td>0.130</td>\n",
              "      <td>0.800</td>\n",
              "      <td>0.070</td>\n",
              "    </tr>\n",
              "    <tr>\n",
              "      <th>7079</th>\n",
              "      <td>2020-06-30</td>\n",
              "      <td>detect byomkesh bakshi edg tomorrow first look...</td>\n",
              "      <td>0.349361</td>\n",
              "      <td>0.059465</td>\n",
              "      <td>-0.9999</td>\n",
              "      <td>0.134</td>\n",
              "      <td>0.818</td>\n",
              "      <td>0.048</td>\n",
              "    </tr>\n",
              "  </tbody>\n",
              "</table>\n",
              "<p>7080 rows × 8 columns</p>\n",
              "</div>"
            ],
            "text/plain": [
              "           Date  ... Positive\n",
              "0    2001-01-01  ...    0.297\n",
              "1    2001-01-02  ...    0.102\n",
              "2    2001-01-03  ...    0.113\n",
              "3    2001-01-04  ...    0.110\n",
              "4    2001-01-05  ...    0.170\n",
              "...         ...  ...      ...\n",
              "7075 2020-06-26  ...    0.069\n",
              "7076 2020-06-27  ...    0.070\n",
              "7077 2020-06-28  ...    0.064\n",
              "7078 2020-06-29  ...    0.070\n",
              "7079 2020-06-30  ...    0.048\n",
              "\n",
              "[7080 rows x 8 columns]"
            ]
          },
          "metadata": {
            "tags": []
          },
          "execution_count": 110
        }
      ]
    },
    {
      "cell_type": "code",
      "metadata": {
        "colab": {
          "base_uri": "https://localhost:8080/",
          "height": 1000
        },
        "id": "4Kayn_znKEyH",
        "outputId": "d12baf89-7c82-4f29-bcba-3a90f9db306c"
      },
      "source": [
        "df_merge = pd.merge(df2, news_data, how='inner', on='Date')\r\n",
        "df_merge"
      ],
      "execution_count": null,
      "outputs": [
        {
          "output_type": "execute_result",
          "data": {
            "text/html": [
              "<div>\n",
              "<style scoped>\n",
              "    .dataframe tbody tr th:only-of-type {\n",
              "        vertical-align: middle;\n",
              "    }\n",
              "\n",
              "    .dataframe tbody tr th {\n",
              "        vertical-align: top;\n",
              "    }\n",
              "\n",
              "    .dataframe thead th {\n",
              "        text-align: right;\n",
              "    }\n",
              "</style>\n",
              "<table border=\"1\" class=\"dataframe\">\n",
              "  <thead>\n",
              "    <tr style=\"text-align: right;\">\n",
              "      <th></th>\n",
              "      <th>Date</th>\n",
              "      <th>Open</th>\n",
              "      <th>High</th>\n",
              "      <th>Low</th>\n",
              "      <th>Close</th>\n",
              "      <th>Adj Close</th>\n",
              "      <th>Volume</th>\n",
              "      <th>News</th>\n",
              "      <th>Subjectivity</th>\n",
              "      <th>Polarity</th>\n",
              "      <th>Compound</th>\n",
              "      <th>Negative</th>\n",
              "      <th>Neutral</th>\n",
              "      <th>Positive</th>\n",
              "    </tr>\n",
              "  </thead>\n",
              "  <tbody>\n",
              "    <tr>\n",
              "      <th>0</th>\n",
              "      <td>2015-01-02</td>\n",
              "      <td>27521.279297</td>\n",
              "      <td>27937.470703</td>\n",
              "      <td>27519.259766</td>\n",
              "      <td>27887.900391</td>\n",
              "      <td>27887.900391</td>\n",
              "      <td>7400.0</td>\n",
              "      <td>drink smart parti tip say sorri kid take child...</td>\n",
              "      <td>0.427002</td>\n",
              "      <td>0.059439</td>\n",
              "      <td>-0.9991</td>\n",
              "      <td>0.128</td>\n",
              "      <td>0.768</td>\n",
              "      <td>0.103</td>\n",
              "    </tr>\n",
              "    <tr>\n",
              "      <th>1</th>\n",
              "      <td>2015-01-05</td>\n",
              "      <td>27978.429688</td>\n",
              "      <td>28064.490234</td>\n",
              "      <td>27786.849609</td>\n",
              "      <td>27842.320313</td>\n",
              "      <td>27842.320313</td>\n",
              "      <td>9200.0</td>\n",
              "      <td>recip strawberri cupcak recip kaju jeera rice ...</td>\n",
              "      <td>0.409543</td>\n",
              "      <td>0.119753</td>\n",
              "      <td>-0.9989</td>\n",
              "      <td>0.122</td>\n",
              "      <td>0.781</td>\n",
              "      <td>0.097</td>\n",
              "    </tr>\n",
              "    <tr>\n",
              "      <th>2</th>\n",
              "      <td>2015-01-06</td>\n",
              "      <td>27694.230469</td>\n",
              "      <td>27698.929688</td>\n",
              "      <td>26937.060547</td>\n",
              "      <td>26987.460938</td>\n",
              "      <td>26987.460938</td>\n",
              "      <td>14100.0</td>\n",
              "      <td>turn garden happi teeth jewelleri latest trend...</td>\n",
              "      <td>0.386223</td>\n",
              "      <td>0.046943</td>\n",
              "      <td>-0.9998</td>\n",
              "      <td>0.133</td>\n",
              "      <td>0.790</td>\n",
              "      <td>0.077</td>\n",
              "    </tr>\n",
              "    <tr>\n",
              "      <th>3</th>\n",
              "      <td>2015-01-07</td>\n",
              "      <td>26983.429688</td>\n",
              "      <td>27051.599609</td>\n",
              "      <td>26776.119141</td>\n",
              "      <td>26908.820313</td>\n",
              "      <td>26908.820313</td>\n",
              "      <td>12200.0</td>\n",
              "      <td>ex lover friend water diet bad tip stay happi ...</td>\n",
              "      <td>0.386953</td>\n",
              "      <td>0.032975</td>\n",
              "      <td>-0.9999</td>\n",
              "      <td>0.154</td>\n",
              "      <td>0.765</td>\n",
              "      <td>0.081</td>\n",
              "    </tr>\n",
              "    <tr>\n",
              "      <th>4</th>\n",
              "      <td>2015-01-08</td>\n",
              "      <td>27178.769531</td>\n",
              "      <td>27316.410156</td>\n",
              "      <td>27101.939453</td>\n",
              "      <td>27274.710938</td>\n",
              "      <td>27274.710938</td>\n",
              "      <td>8200.0</td>\n",
              "      <td>home manicur recip spice beetroot disinfect wa...</td>\n",
              "      <td>0.387770</td>\n",
              "      <td>0.076619</td>\n",
              "      <td>-0.9998</td>\n",
              "      <td>0.131</td>\n",
              "      <td>0.788</td>\n",
              "      <td>0.080</td>\n",
              "    </tr>\n",
              "    <tr>\n",
              "      <th>...</th>\n",
              "      <td>...</td>\n",
              "      <td>...</td>\n",
              "      <td>...</td>\n",
              "      <td>...</td>\n",
              "      <td>...</td>\n",
              "      <td>...</td>\n",
              "      <td>...</td>\n",
              "      <td>...</td>\n",
              "      <td>...</td>\n",
              "      <td>...</td>\n",
              "      <td>...</td>\n",
              "      <td>...</td>\n",
              "      <td>...</td>\n",
              "      <td>...</td>\n",
              "    </tr>\n",
              "    <tr>\n",
              "      <th>1341</th>\n",
              "      <td>2020-06-24</td>\n",
              "      <td>35679.738281</td>\n",
              "      <td>35706.550781</td>\n",
              "      <td>34794.929688</td>\n",
              "      <td>34868.980469</td>\n",
              "      <td>34868.980469</td>\n",
              "      <td>26600.0</td>\n",
              "      <td>never thought voic today vidya rajput never th...</td>\n",
              "      <td>0.368654</td>\n",
              "      <td>0.077799</td>\n",
              "      <td>-0.9997</td>\n",
              "      <td>0.126</td>\n",
              "      <td>0.807</td>\n",
              "      <td>0.067</td>\n",
              "    </tr>\n",
              "    <tr>\n",
              "      <th>1342</th>\n",
              "      <td>2020-06-25</td>\n",
              "      <td>34525.390625</td>\n",
              "      <td>35081.609375</td>\n",
              "      <td>34499.781250</td>\n",
              "      <td>34842.101563</td>\n",
              "      <td>34842.101563</td>\n",
              "      <td>24600.0</td>\n",
              "      <td>truck firm look new export market sell bs rang...</td>\n",
              "      <td>0.362784</td>\n",
              "      <td>0.011935</td>\n",
              "      <td>-0.9999</td>\n",
              "      <td>0.153</td>\n",
              "      <td>0.795</td>\n",
              "      <td>0.052</td>\n",
              "    </tr>\n",
              "    <tr>\n",
              "      <th>1343</th>\n",
              "      <td>2020-06-26</td>\n",
              "      <td>35144.781250</td>\n",
              "      <td>35254.878906</td>\n",
              "      <td>34910.339844</td>\n",
              "      <td>35171.269531</td>\n",
              "      <td>35171.269531</td>\n",
              "      <td>24800.0</td>\n",
              "      <td>contain zone resid slam high price charg veget...</td>\n",
              "      <td>0.330257</td>\n",
              "      <td>0.066958</td>\n",
              "      <td>-0.9998</td>\n",
              "      <td>0.142</td>\n",
              "      <td>0.789</td>\n",
              "      <td>0.069</td>\n",
              "    </tr>\n",
              "    <tr>\n",
              "      <th>1344</th>\n",
              "      <td>2020-06-29</td>\n",
              "      <td>34926.949219</td>\n",
              "      <td>35032.359375</td>\n",
              "      <td>34662.058594</td>\n",
              "      <td>34961.519531</td>\n",
              "      <td>34961.519531</td>\n",
              "      <td>18300.0</td>\n",
              "      <td>hot stylish bikini look katrina kaif anna eden...</td>\n",
              "      <td>0.373210</td>\n",
              "      <td>0.060782</td>\n",
              "      <td>-0.9998</td>\n",
              "      <td>0.130</td>\n",
              "      <td>0.800</td>\n",
              "      <td>0.070</td>\n",
              "    </tr>\n",
              "    <tr>\n",
              "      <th>1345</th>\n",
              "      <td>2020-06-30</td>\n",
              "      <td>35168.300781</td>\n",
              "      <td>35233.910156</td>\n",
              "      <td>34812.800781</td>\n",
              "      <td>34915.800781</td>\n",
              "      <td>34915.800781</td>\n",
              "      <td>18500.0</td>\n",
              "      <td>detect byomkesh bakshi edg tomorrow first look...</td>\n",
              "      <td>0.349361</td>\n",
              "      <td>0.059465</td>\n",
              "      <td>-0.9999</td>\n",
              "      <td>0.134</td>\n",
              "      <td>0.818</td>\n",
              "      <td>0.048</td>\n",
              "    </tr>\n",
              "  </tbody>\n",
              "</table>\n",
              "<p>1346 rows × 14 columns</p>\n",
              "</div>"
            ],
            "text/plain": [
              "           Date          Open          High  ...  Negative  Neutral  Positive\n",
              "0    2015-01-02  27521.279297  27937.470703  ...     0.128    0.768     0.103\n",
              "1    2015-01-05  27978.429688  28064.490234  ...     0.122    0.781     0.097\n",
              "2    2015-01-06  27694.230469  27698.929688  ...     0.133    0.790     0.077\n",
              "3    2015-01-07  26983.429688  27051.599609  ...     0.154    0.765     0.081\n",
              "4    2015-01-08  27178.769531  27316.410156  ...     0.131    0.788     0.080\n",
              "...         ...           ...           ...  ...       ...      ...       ...\n",
              "1341 2020-06-24  35679.738281  35706.550781  ...     0.126    0.807     0.067\n",
              "1342 2020-06-25  34525.390625  35081.609375  ...     0.153    0.795     0.052\n",
              "1343 2020-06-26  35144.781250  35254.878906  ...     0.142    0.789     0.069\n",
              "1344 2020-06-29  34926.949219  35032.359375  ...     0.130    0.800     0.070\n",
              "1345 2020-06-30  35168.300781  35233.910156  ...     0.134    0.818     0.048\n",
              "\n",
              "[1346 rows x 14 columns]"
            ]
          },
          "metadata": {
            "tags": []
          },
          "execution_count": 111
        }
      ]
    },
    {
      "cell_type": "code",
      "metadata": {
        "id": "s3xP6OEDLHM3",
        "colab": {
          "base_uri": "https://localhost:8080/",
          "height": 402
        },
        "outputId": "121b0b14-1014-4e67-8953-572fb9abe24c"
      },
      "source": [
        "df3 = df_merge[['Close','Subjectivity', 'Polarity', 'Compound', 'Negative', 'Neutral' ,'Positive']]\r\n",
        "df3\r\n"
      ],
      "execution_count": null,
      "outputs": [
        {
          "output_type": "execute_result",
          "data": {
            "text/html": [
              "<div>\n",
              "<style scoped>\n",
              "    .dataframe tbody tr th:only-of-type {\n",
              "        vertical-align: middle;\n",
              "    }\n",
              "\n",
              "    .dataframe tbody tr th {\n",
              "        vertical-align: top;\n",
              "    }\n",
              "\n",
              "    .dataframe thead th {\n",
              "        text-align: right;\n",
              "    }\n",
              "</style>\n",
              "<table border=\"1\" class=\"dataframe\">\n",
              "  <thead>\n",
              "    <tr style=\"text-align: right;\">\n",
              "      <th></th>\n",
              "      <th>Close</th>\n",
              "      <th>Subjectivity</th>\n",
              "      <th>Polarity</th>\n",
              "      <th>Compound</th>\n",
              "      <th>Negative</th>\n",
              "      <th>Neutral</th>\n",
              "      <th>Positive</th>\n",
              "    </tr>\n",
              "  </thead>\n",
              "  <tbody>\n",
              "    <tr>\n",
              "      <th>0</th>\n",
              "      <td>27887.900391</td>\n",
              "      <td>0.427002</td>\n",
              "      <td>0.059439</td>\n",
              "      <td>-0.9991</td>\n",
              "      <td>0.128</td>\n",
              "      <td>0.768</td>\n",
              "      <td>0.103</td>\n",
              "    </tr>\n",
              "    <tr>\n",
              "      <th>1</th>\n",
              "      <td>27842.320313</td>\n",
              "      <td>0.409543</td>\n",
              "      <td>0.119753</td>\n",
              "      <td>-0.9989</td>\n",
              "      <td>0.122</td>\n",
              "      <td>0.781</td>\n",
              "      <td>0.097</td>\n",
              "    </tr>\n",
              "    <tr>\n",
              "      <th>2</th>\n",
              "      <td>26987.460938</td>\n",
              "      <td>0.386223</td>\n",
              "      <td>0.046943</td>\n",
              "      <td>-0.9998</td>\n",
              "      <td>0.133</td>\n",
              "      <td>0.790</td>\n",
              "      <td>0.077</td>\n",
              "    </tr>\n",
              "    <tr>\n",
              "      <th>3</th>\n",
              "      <td>26908.820313</td>\n",
              "      <td>0.386953</td>\n",
              "      <td>0.032975</td>\n",
              "      <td>-0.9999</td>\n",
              "      <td>0.154</td>\n",
              "      <td>0.765</td>\n",
              "      <td>0.081</td>\n",
              "    </tr>\n",
              "    <tr>\n",
              "      <th>4</th>\n",
              "      <td>27274.710938</td>\n",
              "      <td>0.387770</td>\n",
              "      <td>0.076619</td>\n",
              "      <td>-0.9998</td>\n",
              "      <td>0.131</td>\n",
              "      <td>0.788</td>\n",
              "      <td>0.080</td>\n",
              "    </tr>\n",
              "    <tr>\n",
              "      <th>...</th>\n",
              "      <td>...</td>\n",
              "      <td>...</td>\n",
              "      <td>...</td>\n",
              "      <td>...</td>\n",
              "      <td>...</td>\n",
              "      <td>...</td>\n",
              "      <td>...</td>\n",
              "    </tr>\n",
              "    <tr>\n",
              "      <th>1341</th>\n",
              "      <td>34868.980469</td>\n",
              "      <td>0.368654</td>\n",
              "      <td>0.077799</td>\n",
              "      <td>-0.9997</td>\n",
              "      <td>0.126</td>\n",
              "      <td>0.807</td>\n",
              "      <td>0.067</td>\n",
              "    </tr>\n",
              "    <tr>\n",
              "      <th>1342</th>\n",
              "      <td>34842.101563</td>\n",
              "      <td>0.362784</td>\n",
              "      <td>0.011935</td>\n",
              "      <td>-0.9999</td>\n",
              "      <td>0.153</td>\n",
              "      <td>0.795</td>\n",
              "      <td>0.052</td>\n",
              "    </tr>\n",
              "    <tr>\n",
              "      <th>1343</th>\n",
              "      <td>35171.269531</td>\n",
              "      <td>0.330257</td>\n",
              "      <td>0.066958</td>\n",
              "      <td>-0.9998</td>\n",
              "      <td>0.142</td>\n",
              "      <td>0.789</td>\n",
              "      <td>0.069</td>\n",
              "    </tr>\n",
              "    <tr>\n",
              "      <th>1344</th>\n",
              "      <td>34961.519531</td>\n",
              "      <td>0.373210</td>\n",
              "      <td>0.060782</td>\n",
              "      <td>-0.9998</td>\n",
              "      <td>0.130</td>\n",
              "      <td>0.800</td>\n",
              "      <td>0.070</td>\n",
              "    </tr>\n",
              "    <tr>\n",
              "      <th>1345</th>\n",
              "      <td>34915.800781</td>\n",
              "      <td>0.349361</td>\n",
              "      <td>0.059465</td>\n",
              "      <td>-0.9999</td>\n",
              "      <td>0.134</td>\n",
              "      <td>0.818</td>\n",
              "      <td>0.048</td>\n",
              "    </tr>\n",
              "  </tbody>\n",
              "</table>\n",
              "<p>1346 rows × 7 columns</p>\n",
              "</div>"
            ],
            "text/plain": [
              "             Close  Subjectivity  Polarity  ...  Negative  Neutral  Positive\n",
              "0     27887.900391      0.427002  0.059439  ...     0.128    0.768     0.103\n",
              "1     27842.320313      0.409543  0.119753  ...     0.122    0.781     0.097\n",
              "2     26987.460938      0.386223  0.046943  ...     0.133    0.790     0.077\n",
              "3     26908.820313      0.386953  0.032975  ...     0.154    0.765     0.081\n",
              "4     27274.710938      0.387770  0.076619  ...     0.131    0.788     0.080\n",
              "...            ...           ...       ...  ...       ...      ...       ...\n",
              "1341  34868.980469      0.368654  0.077799  ...     0.126    0.807     0.067\n",
              "1342  34842.101563      0.362784  0.011935  ...     0.153    0.795     0.052\n",
              "1343  35171.269531      0.330257  0.066958  ...     0.142    0.789     0.069\n",
              "1344  34961.519531      0.373210  0.060782  ...     0.130    0.800     0.070\n",
              "1345  34915.800781      0.349361  0.059465  ...     0.134    0.818     0.048\n",
              "\n",
              "[1346 rows x 7 columns]"
            ]
          },
          "metadata": {
            "tags": []
          },
          "execution_count": 112
        }
      ]
    },
    {
      "cell_type": "code",
      "metadata": {
        "id": "QTVcywzZL85o",
        "colab": {
          "base_uri": "https://localhost:8080/",
          "height": 195
        },
        "outputId": "5cbcd5c7-113c-4808-9e54-829469934f09"
      },
      "source": [
        "from sklearn.preprocessing import MinMaxScaler\r\n",
        "sc = MinMaxScaler()\r\n",
        "new_df = pd.DataFrame(sc.fit_transform(df3))\r\n",
        "new_df.columns = df3.columns\r\n",
        "new_df.index = df3.index\r\n",
        "new_df.head()"
      ],
      "execution_count": null,
      "outputs": [
        {
          "output_type": "execute_result",
          "data": {
            "text/html": [
              "<div>\n",
              "<style scoped>\n",
              "    .dataframe tbody tr th:only-of-type {\n",
              "        vertical-align: middle;\n",
              "    }\n",
              "\n",
              "    .dataframe tbody tr th {\n",
              "        vertical-align: top;\n",
              "    }\n",
              "\n",
              "    .dataframe thead th {\n",
              "        text-align: right;\n",
              "    }\n",
              "</style>\n",
              "<table border=\"1\" class=\"dataframe\">\n",
              "  <thead>\n",
              "    <tr style=\"text-align: right;\">\n",
              "      <th></th>\n",
              "      <th>Close</th>\n",
              "      <th>Subjectivity</th>\n",
              "      <th>Polarity</th>\n",
              "      <th>Compound</th>\n",
              "      <th>Negative</th>\n",
              "      <th>Neutral</th>\n",
              "      <th>Positive</th>\n",
              "    </tr>\n",
              "  </thead>\n",
              "  <tbody>\n",
              "    <tr>\n",
              "      <th>0</th>\n",
              "      <td>0.259782</td>\n",
              "      <td>0.492897</td>\n",
              "      <td>0.228278</td>\n",
              "      <td>0.00045</td>\n",
              "      <td>0.411765</td>\n",
              "      <td>0.336134</td>\n",
              "      <td>0.533981</td>\n",
              "    </tr>\n",
              "    <tr>\n",
              "      <th>1</th>\n",
              "      <td>0.257383</td>\n",
              "      <td>0.415774</td>\n",
              "      <td>0.417200</td>\n",
              "      <td>0.00055</td>\n",
              "      <td>0.352941</td>\n",
              "      <td>0.445378</td>\n",
              "      <td>0.475728</td>\n",
              "    </tr>\n",
              "    <tr>\n",
              "      <th>2</th>\n",
              "      <td>0.212393</td>\n",
              "      <td>0.312762</td>\n",
              "      <td>0.189137</td>\n",
              "      <td>0.00010</td>\n",
              "      <td>0.460784</td>\n",
              "      <td>0.521008</td>\n",
              "      <td>0.281553</td>\n",
              "    </tr>\n",
              "    <tr>\n",
              "      <th>3</th>\n",
              "      <td>0.208254</td>\n",
              "      <td>0.315989</td>\n",
              "      <td>0.145385</td>\n",
              "      <td>0.00005</td>\n",
              "      <td>0.666667</td>\n",
              "      <td>0.310924</td>\n",
              "      <td>0.320388</td>\n",
              "    </tr>\n",
              "    <tr>\n",
              "      <th>4</th>\n",
              "      <td>0.227510</td>\n",
              "      <td>0.319599</td>\n",
              "      <td>0.282091</td>\n",
              "      <td>0.00010</td>\n",
              "      <td>0.441176</td>\n",
              "      <td>0.504202</td>\n",
              "      <td>0.310680</td>\n",
              "    </tr>\n",
              "  </tbody>\n",
              "</table>\n",
              "</div>"
            ],
            "text/plain": [
              "      Close  Subjectivity  Polarity  Compound  Negative   Neutral  Positive\n",
              "0  0.259782      0.492897  0.228278   0.00045  0.411765  0.336134  0.533981\n",
              "1  0.257383      0.415774  0.417200   0.00055  0.352941  0.445378  0.475728\n",
              "2  0.212393      0.312762  0.189137   0.00010  0.460784  0.521008  0.281553\n",
              "3  0.208254      0.315989  0.145385   0.00005  0.666667  0.310924  0.320388\n",
              "4  0.227510      0.319599  0.282091   0.00010  0.441176  0.504202  0.310680"
            ]
          },
          "metadata": {
            "tags": []
          },
          "execution_count": 114
        }
      ]
    },
    {
      "cell_type": "code",
      "metadata": {
        "id": "KVLNF49sDVPt"
      },
      "source": [
        "X = new_df.drop('Close', axis=1)\r\n",
        "y =new_df['Close']"
      ],
      "execution_count": null,
      "outputs": []
    },
    {
      "cell_type": "code",
      "metadata": {
        "colab": {
          "base_uri": "https://localhost:8080/",
          "height": 195
        },
        "id": "JNXpADkroNrN",
        "outputId": "aff3a531-991d-4e33-ef63-35784e030b88"
      },
      "source": [
        "X.head()"
      ],
      "execution_count": null,
      "outputs": [
        {
          "output_type": "execute_result",
          "data": {
            "text/html": [
              "<div>\n",
              "<style scoped>\n",
              "    .dataframe tbody tr th:only-of-type {\n",
              "        vertical-align: middle;\n",
              "    }\n",
              "\n",
              "    .dataframe tbody tr th {\n",
              "        vertical-align: top;\n",
              "    }\n",
              "\n",
              "    .dataframe thead th {\n",
              "        text-align: right;\n",
              "    }\n",
              "</style>\n",
              "<table border=\"1\" class=\"dataframe\">\n",
              "  <thead>\n",
              "    <tr style=\"text-align: right;\">\n",
              "      <th></th>\n",
              "      <th>Subjectivity</th>\n",
              "      <th>Polarity</th>\n",
              "      <th>Compound</th>\n",
              "      <th>Negative</th>\n",
              "      <th>Neutral</th>\n",
              "      <th>Positive</th>\n",
              "    </tr>\n",
              "  </thead>\n",
              "  <tbody>\n",
              "    <tr>\n",
              "      <th>0</th>\n",
              "      <td>0.492897</td>\n",
              "      <td>0.228278</td>\n",
              "      <td>0.00045</td>\n",
              "      <td>0.411765</td>\n",
              "      <td>0.336134</td>\n",
              "      <td>0.533981</td>\n",
              "    </tr>\n",
              "    <tr>\n",
              "      <th>1</th>\n",
              "      <td>0.415774</td>\n",
              "      <td>0.417200</td>\n",
              "      <td>0.00055</td>\n",
              "      <td>0.352941</td>\n",
              "      <td>0.445378</td>\n",
              "      <td>0.475728</td>\n",
              "    </tr>\n",
              "    <tr>\n",
              "      <th>2</th>\n",
              "      <td>0.312762</td>\n",
              "      <td>0.189137</td>\n",
              "      <td>0.00010</td>\n",
              "      <td>0.460784</td>\n",
              "      <td>0.521008</td>\n",
              "      <td>0.281553</td>\n",
              "    </tr>\n",
              "    <tr>\n",
              "      <th>3</th>\n",
              "      <td>0.315989</td>\n",
              "      <td>0.145385</td>\n",
              "      <td>0.00005</td>\n",
              "      <td>0.666667</td>\n",
              "      <td>0.310924</td>\n",
              "      <td>0.320388</td>\n",
              "    </tr>\n",
              "    <tr>\n",
              "      <th>4</th>\n",
              "      <td>0.319599</td>\n",
              "      <td>0.282091</td>\n",
              "      <td>0.00010</td>\n",
              "      <td>0.441176</td>\n",
              "      <td>0.504202</td>\n",
              "      <td>0.310680</td>\n",
              "    </tr>\n",
              "  </tbody>\n",
              "</table>\n",
              "</div>"
            ],
            "text/plain": [
              "   Subjectivity  Polarity  Compound  Negative   Neutral  Positive\n",
              "0      0.492897  0.228278   0.00045  0.411765  0.336134  0.533981\n",
              "1      0.415774  0.417200   0.00055  0.352941  0.445378  0.475728\n",
              "2      0.312762  0.189137   0.00010  0.460784  0.521008  0.281553\n",
              "3      0.315989  0.145385   0.00005  0.666667  0.310924  0.320388\n",
              "4      0.319599  0.282091   0.00010  0.441176  0.504202  0.310680"
            ]
          },
          "metadata": {
            "tags": []
          },
          "execution_count": 116
        }
      ]
    },
    {
      "cell_type": "code",
      "metadata": {
        "colab": {
          "base_uri": "https://localhost:8080/"
        },
        "id": "jeOkJ6BpoSTu",
        "outputId": "6c589c50-fda5-4a78-b9c0-06fe755f5558"
      },
      "source": [
        "x_train, x_test, y_train, y_test = train_test_split(X, y, test_size=0.2, random_state = 0)\r\n",
        "x_train.shape"
      ],
      "execution_count": null,
      "outputs": [
        {
          "output_type": "execute_result",
          "data": {
            "text/plain": [
              "(1076, 6)"
            ]
          },
          "metadata": {
            "tags": []
          },
          "execution_count": 117
        }
      ]
    },
    {
      "cell_type": "code",
      "metadata": {
        "colab": {
          "base_uri": "https://localhost:8080/",
          "height": 343
        },
        "id": "2GBlxJvboUBp",
        "outputId": "d3c0555c-2a10-4a67-8262-d6f30f9c207a"
      },
      "source": [
        "x_train[:10]"
      ],
      "execution_count": null,
      "outputs": [
        {
          "output_type": "execute_result",
          "data": {
            "text/html": [
              "<div>\n",
              "<style scoped>\n",
              "    .dataframe tbody tr th:only-of-type {\n",
              "        vertical-align: middle;\n",
              "    }\n",
              "\n",
              "    .dataframe tbody tr th {\n",
              "        vertical-align: top;\n",
              "    }\n",
              "\n",
              "    .dataframe thead th {\n",
              "        text-align: right;\n",
              "    }\n",
              "</style>\n",
              "<table border=\"1\" class=\"dataframe\">\n",
              "  <thead>\n",
              "    <tr style=\"text-align: right;\">\n",
              "      <th></th>\n",
              "      <th>Subjectivity</th>\n",
              "      <th>Polarity</th>\n",
              "      <th>Compound</th>\n",
              "      <th>Negative</th>\n",
              "      <th>Neutral</th>\n",
              "      <th>Positive</th>\n",
              "    </tr>\n",
              "  </thead>\n",
              "  <tbody>\n",
              "    <tr>\n",
              "      <th>319</th>\n",
              "      <td>0.360577</td>\n",
              "      <td>0.405158</td>\n",
              "      <td>0.000050</td>\n",
              "      <td>0.617647</td>\n",
              "      <td>0.352941</td>\n",
              "      <td>0.330097</td>\n",
              "    </tr>\n",
              "    <tr>\n",
              "      <th>565</th>\n",
              "      <td>0.269052</td>\n",
              "      <td>0.364814</td>\n",
              "      <td>0.000150</td>\n",
              "      <td>0.509804</td>\n",
              "      <td>0.277311</td>\n",
              "      <td>0.514563</td>\n",
              "    </tr>\n",
              "    <tr>\n",
              "      <th>445</th>\n",
              "      <td>0.141201</td>\n",
              "      <td>0.305165</td>\n",
              "      <td>0.000050</td>\n",
              "      <td>0.656863</td>\n",
              "      <td>0.260504</td>\n",
              "      <td>0.398058</td>\n",
              "    </tr>\n",
              "    <tr>\n",
              "      <th>1078</th>\n",
              "      <td>1.000000</td>\n",
              "      <td>0.998840</td>\n",
              "      <td>0.022703</td>\n",
              "      <td>0.235294</td>\n",
              "      <td>0.478992</td>\n",
              "      <td>0.543689</td>\n",
              "    </tr>\n",
              "    <tr>\n",
              "      <th>950</th>\n",
              "      <td>0.200502</td>\n",
              "      <td>0.256249</td>\n",
              "      <td>0.000050</td>\n",
              "      <td>0.607843</td>\n",
              "      <td>0.336134</td>\n",
              "      <td>0.349515</td>\n",
              "    </tr>\n",
              "    <tr>\n",
              "      <th>708</th>\n",
              "      <td>0.183190</td>\n",
              "      <td>0.266536</td>\n",
              "      <td>0.000050</td>\n",
              "      <td>0.637255</td>\n",
              "      <td>0.310924</td>\n",
              "      <td>0.349515</td>\n",
              "    </tr>\n",
              "    <tr>\n",
              "      <th>1293</th>\n",
              "      <td>0.111908</td>\n",
              "      <td>0.202945</td>\n",
              "      <td>0.000350</td>\n",
              "      <td>0.215686</td>\n",
              "      <td>0.773109</td>\n",
              "      <td>0.233010</td>\n",
              "    </tr>\n",
              "    <tr>\n",
              "      <th>194</th>\n",
              "      <td>0.364744</td>\n",
              "      <td>0.441425</td>\n",
              "      <td>0.000150</td>\n",
              "      <td>0.607843</td>\n",
              "      <td>0.193277</td>\n",
              "      <td>0.514563</td>\n",
              "    </tr>\n",
              "    <tr>\n",
              "      <th>240</th>\n",
              "      <td>0.409441</td>\n",
              "      <td>0.263369</td>\n",
              "      <td>0.000600</td>\n",
              "      <td>0.343137</td>\n",
              "      <td>0.420168</td>\n",
              "      <td>0.514563</td>\n",
              "    </tr>\n",
              "    <tr>\n",
              "      <th>1174</th>\n",
              "      <td>0.425423</td>\n",
              "      <td>0.286741</td>\n",
              "      <td>0.000100</td>\n",
              "      <td>0.558824</td>\n",
              "      <td>0.361345</td>\n",
              "      <td>0.368932</td>\n",
              "    </tr>\n",
              "  </tbody>\n",
              "</table>\n",
              "</div>"
            ],
            "text/plain": [
              "      Subjectivity  Polarity  Compound  Negative   Neutral  Positive\n",
              "319       0.360577  0.405158  0.000050  0.617647  0.352941  0.330097\n",
              "565       0.269052  0.364814  0.000150  0.509804  0.277311  0.514563\n",
              "445       0.141201  0.305165  0.000050  0.656863  0.260504  0.398058\n",
              "1078      1.000000  0.998840  0.022703  0.235294  0.478992  0.543689\n",
              "950       0.200502  0.256249  0.000050  0.607843  0.336134  0.349515\n",
              "708       0.183190  0.266536  0.000050  0.637255  0.310924  0.349515\n",
              "1293      0.111908  0.202945  0.000350  0.215686  0.773109  0.233010\n",
              "194       0.364744  0.441425  0.000150  0.607843  0.193277  0.514563\n",
              "240       0.409441  0.263369  0.000600  0.343137  0.420168  0.514563\n",
              "1174      0.425423  0.286741  0.000100  0.558824  0.361345  0.368932"
            ]
          },
          "metadata": {
            "tags": []
          },
          "execution_count": 118
        }
      ]
    },
    {
      "cell_type": "code",
      "metadata": {
        "id": "9Cr552BbojAM"
      },
      "source": [
        "from sklearn.tree import DecisionTreeRegressor\r\n",
        "dec_tree = DecisionTreeRegressor()\r\n",
        "dec_tree.fit(x_train, y_train)\r\n",
        "predictions = dec_tree.predict(x_test)"
      ],
      "execution_count": null,
      "outputs": []
    },
    {
      "cell_type": "code",
      "metadata": {
        "colab": {
          "base_uri": "https://localhost:8080/"
        },
        "id": "g1tbeby6olX1",
        "outputId": "68deb5be-2656-4326-f8f1-00ab77bdbffe"
      },
      "source": [
        "print(predictions[:10])\r\n",
        "print(y_test[:10])\r\n",
        "print(mean_squared_error(predictions,y_test))"
      ],
      "execution_count": null,
      "outputs": [
        {
          "output_type": "stream",
          "text": [
            "[0.803263   0.15835909 0.81352634 0.28137242 0.6383937  0.15190469\n",
            " 0.67657425 0.94663855 0.61391159 0.1986111 ]\n",
            "1228    0.942994\n",
            "330     0.139215\n",
            "1215    0.968398\n",
            "438     0.268360\n",
            "1315    0.372466\n",
            "142     0.250175\n",
            "799     0.548335\n",
            "1048    0.828844\n",
            "998     0.710118\n",
            "54      0.274193\n",
            "Name: Close, dtype: float64\n",
            "0.08004889311240541\n"
          ],
          "name": "stdout"
        }
      ]
    },
    {
      "cell_type": "code",
      "metadata": {
        "colab": {
          "base_uri": "https://localhost:8080/"
        },
        "id": "t9opZzM9o5rN",
        "outputId": "3d4723f2-72fc-40a2-b3ff-fbd9db974d89"
      },
      "source": [
        "xgb = xgboost.XGBRegressor()\r\n",
        "xgb.fit(x_train, y_train)"
      ],
      "execution_count": null,
      "outputs": [
        {
          "output_type": "stream",
          "text": [
            "[17:43:19] WARNING: /workspace/src/objective/regression_obj.cu:152: reg:linear is now deprecated in favor of reg:squarederror.\n"
          ],
          "name": "stdout"
        },
        {
          "output_type": "execute_result",
          "data": {
            "text/plain": [
              "XGBRegressor(base_score=0.5, booster='gbtree', colsample_bylevel=1,\n",
              "             colsample_bynode=1, colsample_bytree=1, gamma=0,\n",
              "             importance_type='gain', learning_rate=0.1, max_delta_step=0,\n",
              "             max_depth=3, min_child_weight=1, missing=None, n_estimators=100,\n",
              "             n_jobs=1, nthread=None, objective='reg:linear', random_state=0,\n",
              "             reg_alpha=0, reg_lambda=1, scale_pos_weight=1, seed=None,\n",
              "             silent=None, subsample=1, verbosity=1)"
            ]
          },
          "metadata": {
            "tags": []
          },
          "execution_count": 128
        }
      ]
    },
    {
      "cell_type": "code",
      "metadata": {
        "colab": {
          "base_uri": "https://localhost:8080/"
        },
        "id": "cHtaFMyao73o",
        "outputId": "faed14ca-60c7-4ef6-f8e3-5a8e93bd8029"
      },
      "source": [
        "predictions = xgb.predict(x_test)\r\n",
        "print(mean_squared_error(predictions,y_test))"
      ],
      "execution_count": null,
      "outputs": [
        {
          "output_type": "stream",
          "text": [
            "0.04844028587075281\n"
          ],
          "name": "stdout"
        }
      ]
    },
    {
      "cell_type": "code",
      "metadata": {
        "id": "EY0FXJh-o932"
      },
      "source": [
        ""
      ],
      "execution_count": null,
      "outputs": []
    }
  ]
}